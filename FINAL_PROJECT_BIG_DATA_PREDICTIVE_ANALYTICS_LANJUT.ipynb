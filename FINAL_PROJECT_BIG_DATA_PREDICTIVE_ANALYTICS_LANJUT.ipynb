{
  "cells": [
    {
      "cell_type": "markdown",
      "metadata": {
        "id": "4JpCflNIfbEl"
      },
      "source": [
        "<h1><b>FINAL PROJECT BIG DATA PREDICTIVE ANALYTICS LANJUT</b></h1>\n",
        " <ul>\n",
        " <h4>Owner : Bagus Budi Satoto<h/2>\n",
        " </ul>"
      ]
    },
    {
      "cell_type": "markdown",
      "metadata": {
        "id": "iHMRgA1Yf0rd"
      },
      "source": [
        "<h4><b>INSTALL PYSPARK</b></h4>"
      ]
    },
    {
      "cell_type": "code",
      "execution_count": 9,
      "metadata": {
        "colab": {
          "base_uri": "https://localhost:8080/"
        },
        "id": "NV7n6zDkbLXD",
        "outputId": "9e292594-bffb-4e86-ff18-f64f68187fe0"
      },
      "outputs": [
        {
          "name": "stdout",
          "output_type": "stream",
          "text": [
            "Collecting pyspark\n",
            "  Using cached pyspark-3.5.0.tar.gz (316.9 MB)\n",
            "  Installing build dependencies ... \u001b[?25ldone\n",
            "\u001b[?25h  Getting requirements to build wheel ... \u001b[?25ldone\n",
            "\u001b[?25h  Preparing metadata (pyproject.toml) ... \u001b[?25ldone\n",
            "\u001b[?25hCollecting py4j==0.10.9.7 (from pyspark)\n",
            "  Using cached py4j-0.10.9.7-py2.py3-none-any.whl (200 kB)\n",
            "Building wheels for collected packages: pyspark\n",
            "  Building wheel for pyspark (pyproject.toml) ... \u001b[?25ldone\n",
            "\u001b[?25h  Created wheel for pyspark: filename=pyspark-3.5.0-py2.py3-none-any.whl size=317425345 sha256=0f5573e125ad31d66771e5111d9299f0af205d04bb93f657d7b2338de44057e3\n",
            "  Stored in directory: /home/codespace/.cache/pip/wheels/41/4e/10/c2cf2467f71c678cfc8a6b9ac9241e5e44a01940da8fbb17fc\n",
            "Successfully built pyspark\n",
            "Installing collected packages: py4j, pyspark\n",
            "Successfully installed py4j-0.10.9.7 pyspark-3.5.0\n",
            "Note: you may need to restart the kernel to use updated packages.\n"
          ]
        }
      ],
      "source": [
        "pip install pyspark"
      ]
    },
    {
      "cell_type": "markdown",
      "metadata": {},
      "source": [
        "<h4><b>IMPORT LIBRARY</b></h4>"
      ]
    },
    {
      "cell_type": "code",
      "execution_count": 123,
      "metadata": {},
      "outputs": [],
      "source": [
        "from pyspark.sql import SparkSession\n",
        "from pyspark.sql.functions import col,isnan,when,count,expr, udf\n",
        "import seaborn as sns\n",
        "from matplotlib import pyplot as plt\n",
        "from pyspark.ml.stat import Correlation\n",
        "from pyspark.ml.feature import VectorAssembler\n",
        "import pandas as pd\n",
        "from pyspark.ml.regression import LinearRegression\n",
        "from pyspark.ml.evaluation import RegressionEvaluator\n",
        "from pyspark.ml.classification import LogisticRegression\n",
        "from pyspark.ml.evaluation import MulticlassClassificationEvaluator\n",
        "from pyspark.ml.classification import RandomForestClassifier,MultilayerPerceptronClassifier\n",
        "from pyspark.ml.classification import NaiveBayes\n",
        "from pyspark.ml.tuning import ParamGridBuilder, CrossValidator\n",
        "from pyspark.mllib.evaluation import MulticlassMetrics\n",
        "from sklearn.metrics import confusion_matrix"
      ]
    },
    {
      "cell_type": "markdown",
      "metadata": {},
      "source": [
        "<h4><b>CREATE SESSION SPARK</b></h4>"
      ]
    },
    {
      "cell_type": "code",
      "execution_count": 4,
      "metadata": {},
      "outputs": [
        {
          "name": "stderr",
          "output_type": "stream",
          "text": [
            "23/12/11 05:59:27 WARN Utils: Your hostname, Mini resolves to a loopback address: 127.0.1.1; using 192.168.0.108 instead (on interface wlp3s0)\n",
            "23/12/11 05:59:27 WARN Utils: Set SPARK_LOCAL_IP if you need to bind to another address\n",
            "Setting default log level to \"WARN\".\n",
            "To adjust logging level use sc.setLogLevel(newLevel). For SparkR, use setLogLevel(newLevel).\n",
            "23/12/11 05:59:28 WARN NativeCodeLoader: Unable to load native-hadoop library for your platform... using builtin-java classes where applicable\n"
          ]
        }
      ],
      "source": [
        "spark = SparkSession.builder.getOrCreate()"
      ]
    },
    {
      "cell_type": "markdown",
      "metadata": {},
      "source": [
        "<h4><b>IMPORT DATASET</b></h4>"
      ]
    },
    {
      "cell_type": "code",
      "execution_count": 5,
      "metadata": {},
      "outputs": [
        {
          "name": "stderr",
          "output_type": "stream",
          "text": [
            "                                                                                \r"
          ]
        }
      ],
      "source": [
        "path = './Covid Data.csv'\n",
        "df = spark.read.csv(path,inferSchema=True,header=True)"
      ]
    },
    {
      "cell_type": "markdown",
      "metadata": {},
      "source": [
        "<h2><b>PREPARE DATASET</b></h2>"
      ]
    },
    {
      "cell_type": "markdown",
      "metadata": {},
      "source": [
        "<h4><b>MELIHAT CONTOH DATASET</b></h4>"
      ]
    },
    {
      "cell_type": "code",
      "execution_count": 6,
      "metadata": {},
      "outputs": [
        {
          "name": "stdout",
          "output_type": "stream",
          "text": [
            "+-----+------------+---+------------+----------+-------+---------+---+--------+--------+----+------+-------+------------+-------------+--------------+-------+-------------+-------+--------------------+---+\n",
            "|USMER|MEDICAL_UNIT|SEX|PATIENT_TYPE| DATE_DIED|INTUBED|PNEUMONIA|AGE|PREGNANT|DIABETES|COPD|ASTHMA|INMSUPR|HIPERTENSION|OTHER_DISEASE|CARDIOVASCULAR|OBESITY|RENAL_CHRONIC|TOBACCO|CLASIFFICATION_FINAL|ICU|\n",
            "+-----+------------+---+------------+----------+-------+---------+---+--------+--------+----+------+-------+------------+-------------+--------------+-------+-------------+-------+--------------------+---+\n",
            "|    2|           1|  1|           1|03/05/2020|     97|        1| 65|       2|       2|   2|     2|      2|           1|            2|             2|      2|            2|      2|                   3| 97|\n",
            "|    2|           1|  2|           1|03/06/2020|     97|        1| 72|      97|       2|   2|     2|      2|           1|            2|             2|      1|            1|      2|                   5| 97|\n",
            "|    2|           1|  2|           2|09/06/2020|      1|        2| 55|      97|       1|   2|     2|      2|           2|            2|             2|      2|            2|      2|                   3|  2|\n",
            "|    2|           1|  1|           1|12/06/2020|     97|        2| 53|       2|       2|   2|     2|      2|           2|            2|             2|      2|            2|      2|                   7| 97|\n",
            "|    2|           1|  2|           1|21/06/2020|     97|        2| 68|      97|       1|   2|     2|      2|           1|            2|             2|      2|            2|      2|                   3| 97|\n",
            "+-----+------------+---+------------+----------+-------+---------+---+--------+--------+----+------+-------+------------+-------------+--------------+-------+-------------+-------+--------------------+---+\n",
            "only showing top 5 rows\n",
            "\n"
          ]
        }
      ],
      "source": [
        "df.show(5)"
      ]
    },
    {
      "cell_type": "markdown",
      "metadata": {},
      "source": [
        "<h4><b>MENGHAPUS COLUMN YANG KURANG BERGUNA</b></h4>"
      ]
    },
    {
      "cell_type": "code",
      "execution_count": 7,
      "metadata": {},
      "outputs": [],
      "source": [
        "df = df.drop('DATE_DIED')"
      ]
    },
    {
      "cell_type": "markdown",
      "metadata": {},
      "source": [
        "<h4><b>MELIHAT JUMLAH KOLOM DAN BARIS DATASET</b></h4>"
      ]
    },
    {
      "cell_type": "code",
      "execution_count": 8,
      "metadata": {},
      "outputs": [
        {
          "name": "stderr",
          "output_type": "stream",
          "text": [
            "[Stage 3:>                                                          (0 + 8) / 8]\r"
          ]
        },
        {
          "name": "stdout",
          "output_type": "stream",
          "text": [
            "Jumlah Baris Dalam Dataset : 1048575 Baris\n",
            "Jumlah Kolom Dalam Dataset : 20\n"
          ]
        },
        {
          "name": "stderr",
          "output_type": "stream",
          "text": [
            "                                                                                \r"
          ]
        }
      ],
      "source": [
        "print(f\"Jumlah Baris Dalam Dataset : {df.count()} Baris\")\n",
        "print(f\"Jumlah Kolom Dalam Dataset : {len(df.columns)}\")"
      ]
    },
    {
      "cell_type": "markdown",
      "metadata": {},
      "source": [
        "<h4><b>MELIHAT TIPE DATA DARI SETIAP KOLOM</b></h4>"
      ]
    },
    {
      "cell_type": "code",
      "execution_count": 9,
      "metadata": {},
      "outputs": [
        {
          "name": "stdout",
          "output_type": "stream",
          "text": [
            "root\n",
            " |-- USMER: integer (nullable = true)\n",
            " |-- MEDICAL_UNIT: integer (nullable = true)\n",
            " |-- SEX: integer (nullable = true)\n",
            " |-- PATIENT_TYPE: integer (nullable = true)\n",
            " |-- INTUBED: integer (nullable = true)\n",
            " |-- PNEUMONIA: integer (nullable = true)\n",
            " |-- AGE: integer (nullable = true)\n",
            " |-- PREGNANT: integer (nullable = true)\n",
            " |-- DIABETES: integer (nullable = true)\n",
            " |-- COPD: integer (nullable = true)\n",
            " |-- ASTHMA: integer (nullable = true)\n",
            " |-- INMSUPR: integer (nullable = true)\n",
            " |-- HIPERTENSION: integer (nullable = true)\n",
            " |-- OTHER_DISEASE: integer (nullable = true)\n",
            " |-- CARDIOVASCULAR: integer (nullable = true)\n",
            " |-- OBESITY: integer (nullable = true)\n",
            " |-- RENAL_CHRONIC: integer (nullable = true)\n",
            " |-- TOBACCO: integer (nullable = true)\n",
            " |-- CLASIFFICATION_FINAL: integer (nullable = true)\n",
            " |-- ICU: integer (nullable = true)\n",
            "\n"
          ]
        }
      ],
      "source": [
        "df.printSchema()"
      ]
    },
    {
      "cell_type": "markdown",
      "metadata": {},
      "source": [
        "<h4><b>MELIHAT DATA NULL DARI SETIAP KOLOM</b></h4>"
      ]
    },
    {
      "cell_type": "code",
      "execution_count": 10,
      "metadata": {},
      "outputs": [
        {
          "name": "stderr",
          "output_type": "stream",
          "text": [
            "                                                                                \r"
          ]
        },
        {
          "data": {
            "text/html": [
              "<div>\n",
              "<style scoped>\n",
              "    .dataframe tbody tr th:only-of-type {\n",
              "        vertical-align: middle;\n",
              "    }\n",
              "\n",
              "    .dataframe tbody tr th {\n",
              "        vertical-align: top;\n",
              "    }\n",
              "\n",
              "    .dataframe thead th {\n",
              "        text-align: right;\n",
              "    }\n",
              "</style>\n",
              "<table border=\"1\" class=\"dataframe\">\n",
              "  <thead>\n",
              "    <tr style=\"text-align: right;\">\n",
              "      <th></th>\n",
              "      <th>0</th>\n",
              "    </tr>\n",
              "  </thead>\n",
              "  <tbody>\n",
              "    <tr>\n",
              "      <th>USMER</th>\n",
              "      <td>0</td>\n",
              "    </tr>\n",
              "    <tr>\n",
              "      <th>MEDICAL_UNIT</th>\n",
              "      <td>0</td>\n",
              "    </tr>\n",
              "    <tr>\n",
              "      <th>SEX</th>\n",
              "      <td>0</td>\n",
              "    </tr>\n",
              "    <tr>\n",
              "      <th>PATIENT_TYPE</th>\n",
              "      <td>0</td>\n",
              "    </tr>\n",
              "    <tr>\n",
              "      <th>INTUBED</th>\n",
              "      <td>0</td>\n",
              "    </tr>\n",
              "    <tr>\n",
              "      <th>PNEUMONIA</th>\n",
              "      <td>0</td>\n",
              "    </tr>\n",
              "    <tr>\n",
              "      <th>AGE</th>\n",
              "      <td>0</td>\n",
              "    </tr>\n",
              "    <tr>\n",
              "      <th>PREGNANT</th>\n",
              "      <td>0</td>\n",
              "    </tr>\n",
              "    <tr>\n",
              "      <th>DIABETES</th>\n",
              "      <td>0</td>\n",
              "    </tr>\n",
              "    <tr>\n",
              "      <th>COPD</th>\n",
              "      <td>0</td>\n",
              "    </tr>\n",
              "    <tr>\n",
              "      <th>ASTHMA</th>\n",
              "      <td>0</td>\n",
              "    </tr>\n",
              "    <tr>\n",
              "      <th>INMSUPR</th>\n",
              "      <td>0</td>\n",
              "    </tr>\n",
              "    <tr>\n",
              "      <th>HIPERTENSION</th>\n",
              "      <td>0</td>\n",
              "    </tr>\n",
              "    <tr>\n",
              "      <th>OTHER_DISEASE</th>\n",
              "      <td>0</td>\n",
              "    </tr>\n",
              "    <tr>\n",
              "      <th>CARDIOVASCULAR</th>\n",
              "      <td>0</td>\n",
              "    </tr>\n",
              "    <tr>\n",
              "      <th>OBESITY</th>\n",
              "      <td>0</td>\n",
              "    </tr>\n",
              "    <tr>\n",
              "      <th>RENAL_CHRONIC</th>\n",
              "      <td>0</td>\n",
              "    </tr>\n",
              "    <tr>\n",
              "      <th>TOBACCO</th>\n",
              "      <td>0</td>\n",
              "    </tr>\n",
              "    <tr>\n",
              "      <th>CLASIFFICATION_FINAL</th>\n",
              "      <td>0</td>\n",
              "    </tr>\n",
              "    <tr>\n",
              "      <th>ICU</th>\n",
              "      <td>0</td>\n",
              "    </tr>\n",
              "  </tbody>\n",
              "</table>\n",
              "</div>"
            ],
            "text/plain": [
              "                      0\n",
              "USMER                 0\n",
              "MEDICAL_UNIT          0\n",
              "SEX                   0\n",
              "PATIENT_TYPE          0\n",
              "INTUBED               0\n",
              "PNEUMONIA             0\n",
              "AGE                   0\n",
              "PREGNANT              0\n",
              "DIABETES              0\n",
              "COPD                  0\n",
              "ASTHMA                0\n",
              "INMSUPR               0\n",
              "HIPERTENSION          0\n",
              "OTHER_DISEASE         0\n",
              "CARDIOVASCULAR        0\n",
              "OBESITY               0\n",
              "RENAL_CHRONIC         0\n",
              "TOBACCO               0\n",
              "CLASIFFICATION_FINAL  0\n",
              "ICU                   0"
            ]
          },
          "execution_count": 10,
          "metadata": {},
          "output_type": "execute_result"
        }
      ],
      "source": [
        "df.select([count(when((col(c).isNull() | isnan(col(c)) | (col(c) == 'NA')), c)).alias(c) for c in df.columns]).toPandas().T"
      ]
    },
    {
      "cell_type": "markdown",
      "metadata": {},
      "source": [
        "<h4><b>MENGHAPUS DATA NULL ATAU 'NA'</b></h4>"
      ]
    },
    {
      "cell_type": "code",
      "execution_count": 11,
      "metadata": {},
      "outputs": [],
      "source": [
        "df = df.na.drop()"
      ]
    },
    {
      "cell_type": "markdown",
      "metadata": {},
      "source": [
        "<h4><b>MENGGANTI NAMA KOLOM MENJADI HURUF KECIL</b></h4>"
      ]
    },
    {
      "cell_type": "code",
      "execution_count": 12,
      "metadata": {},
      "outputs": [],
      "source": [
        "df = df.select(*[col(c).alias(c.lower()) for c in df.columns])"
      ]
    },
    {
      "cell_type": "markdown",
      "metadata": {},
      "source": [
        "<h3><b>MENGUBAH NILAI \"PATIENT_TYPE\" MENJADI BINARY 0 DAN 1</b></h3>"
      ]
    },
    {
      "cell_type": "code",
      "execution_count": 13,
      "metadata": {},
      "outputs": [],
      "source": [
        "df = df.withColumn(\"patient_type\", when(df[\"patient_type\"] == 1.0, 0).otherwise(1))"
      ]
    },
    {
      "cell_type": "markdown",
      "metadata": {},
      "source": [
        "<h2><b>DATA PRE-PROCESSING</b></h2>"
      ]
    },
    {
      "cell_type": "markdown",
      "metadata": {},
      "source": [
        "<h3><b>MELIHAT DATA 5 TERATAS</b></h3>"
      ]
    },
    {
      "cell_type": "code",
      "execution_count": 14,
      "metadata": {},
      "outputs": [
        {
          "name": "stdout",
          "output_type": "stream",
          "text": [
            "+-----+------------+---+------------+-------+---------+---+--------+--------+----+------+-------+------------+-------------+--------------+-------+-------------+-------+--------------------+---+\n",
            "|usmer|medical_unit|sex|patient_type|intubed|pneumonia|age|pregnant|diabetes|copd|asthma|inmsupr|hipertension|other_disease|cardiovascular|obesity|renal_chronic|tobacco|clasiffication_final|icu|\n",
            "+-----+------------+---+------------+-------+---------+---+--------+--------+----+------+-------+------------+-------------+--------------+-------+-------------+-------+--------------------+---+\n",
            "|    2|           1|  1|           0|     97|        1| 65|       2|       2|   2|     2|      2|           1|            2|             2|      2|            2|      2|                   3| 97|\n",
            "|    2|           1|  2|           0|     97|        1| 72|      97|       2|   2|     2|      2|           1|            2|             2|      1|            1|      2|                   5| 97|\n",
            "|    2|           1|  2|           1|      1|        2| 55|      97|       1|   2|     2|      2|           2|            2|             2|      2|            2|      2|                   3|  2|\n",
            "|    2|           1|  1|           0|     97|        2| 53|       2|       2|   2|     2|      2|           2|            2|             2|      2|            2|      2|                   7| 97|\n",
            "|    2|           1|  2|           0|     97|        2| 68|      97|       1|   2|     2|      2|           1|            2|             2|      2|            2|      2|                   3| 97|\n",
            "+-----+------------+---+------------+-------+---------+---+--------+--------+----+------+-------+------------+-------------+--------------+-------+-------------+-------+--------------------+---+\n",
            "only showing top 5 rows\n",
            "\n"
          ]
        }
      ],
      "source": [
        "df.show(5)"
      ]
    },
    {
      "cell_type": "markdown",
      "metadata": {},
      "source": [
        "<h3><b>MELIHAT DESKRIPSI DATASET</b></h3>"
      ]
    },
    {
      "cell_type": "code",
      "execution_count": 15,
      "metadata": {},
      "outputs": [
        {
          "name": "stderr",
          "output_type": "stream",
          "text": [
            "23/12/11 05:59:48 WARN package: Truncated the string representation of a plan since it was too large. This behavior can be adjusted by setting 'spark.sql.debug.maxToStringFields'.\n",
            "                                                                                \r"
          ]
        },
        {
          "data": {
            "text/html": [
              "<div>\n",
              "<style scoped>\n",
              "    .dataframe tbody tr th:only-of-type {\n",
              "        vertical-align: middle;\n",
              "    }\n",
              "\n",
              "    .dataframe tbody tr th {\n",
              "        vertical-align: top;\n",
              "    }\n",
              "\n",
              "    .dataframe thead th {\n",
              "        text-align: right;\n",
              "    }\n",
              "</style>\n",
              "<table border=\"1\" class=\"dataframe\">\n",
              "  <thead>\n",
              "    <tr style=\"text-align: right;\">\n",
              "      <th></th>\n",
              "      <th>summary</th>\n",
              "      <th>usmer</th>\n",
              "      <th>medical_unit</th>\n",
              "      <th>sex</th>\n",
              "      <th>patient_type</th>\n",
              "      <th>intubed</th>\n",
              "      <th>pneumonia</th>\n",
              "      <th>age</th>\n",
              "      <th>pregnant</th>\n",
              "      <th>diabetes</th>\n",
              "      <th>...</th>\n",
              "      <th>asthma</th>\n",
              "      <th>inmsupr</th>\n",
              "      <th>hipertension</th>\n",
              "      <th>other_disease</th>\n",
              "      <th>cardiovascular</th>\n",
              "      <th>obesity</th>\n",
              "      <th>renal_chronic</th>\n",
              "      <th>tobacco</th>\n",
              "      <th>clasiffication_final</th>\n",
              "      <th>icu</th>\n",
              "    </tr>\n",
              "  </thead>\n",
              "  <tbody>\n",
              "    <tr>\n",
              "      <th>0</th>\n",
              "      <td>count</td>\n",
              "      <td>1048575</td>\n",
              "      <td>1048575</td>\n",
              "      <td>1048575</td>\n",
              "      <td>1048575</td>\n",
              "      <td>1048575</td>\n",
              "      <td>1048575</td>\n",
              "      <td>1048575</td>\n",
              "      <td>1048575</td>\n",
              "      <td>1048575</td>\n",
              "      <td>...</td>\n",
              "      <td>1048575</td>\n",
              "      <td>1048575</td>\n",
              "      <td>1048575</td>\n",
              "      <td>1048575</td>\n",
              "      <td>1048575</td>\n",
              "      <td>1048575</td>\n",
              "      <td>1048575</td>\n",
              "      <td>1048575</td>\n",
              "      <td>1048575</td>\n",
              "      <td>1048575</td>\n",
              "    </tr>\n",
              "    <tr>\n",
              "      <th>1</th>\n",
              "      <td>mean</td>\n",
              "      <td>1.6321941682759935</td>\n",
              "      <td>8.980565052571347</td>\n",
              "      <td>1.4992594711870872</td>\n",
              "      <td>0.19076460911236678</td>\n",
              "      <td>79.52287533080609</td>\n",
              "      <td>3.3468306988055216</td>\n",
              "      <td>41.794102472403026</td>\n",
              "      <td>49.76558472212288</td>\n",
              "      <td>2.1864044059795438</td>\n",
              "      <td>...</td>\n",
              "      <td>2.2426264215721337</td>\n",
              "      <td>2.2981322270700715</td>\n",
              "      <td>2.1289893426793505</td>\n",
              "      <td>2.435142932074482</td>\n",
              "      <td>2.2618095987411486</td>\n",
              "      <td>2.125175595450969</td>\n",
              "      <td>2.2571795055193955</td>\n",
              "      <td>2.2143327849700785</td>\n",
              "      <td>5.305652909901533</td>\n",
              "      <td>79.55397372624752</td>\n",
              "    </tr>\n",
              "    <tr>\n",
              "      <th>2</th>\n",
              "      <td>stddev</td>\n",
              "      <td>0.48220838195439936</td>\n",
              "      <td>3.7232777781997557</td>\n",
              "      <td>0.49999969003549183</td>\n",
              "      <td>0.3929040852992876</td>\n",
              "      <td>36.86888627504416</td>\n",
              "      <td>11.912881086507987</td>\n",
              "      <td>16.907389199431183</td>\n",
              "      <td>47.510732711076386</td>\n",
              "      <td>5.42424178788834</td>\n",
              "      <td>...</td>\n",
              "      <td>5.114089259422005</td>\n",
              "      <td>5.462843261101409</td>\n",
              "      <td>5.2363970946060965</td>\n",
              "      <td>6.6466755910747075</td>\n",
              "      <td>5.194850371652742</td>\n",
              "      <td>5.175445110188388</td>\n",
              "      <td>5.135353853399502</td>\n",
              "      <td>5.323097220663561</td>\n",
              "      <td>1.8811654309355434</td>\n",
              "      <td>36.82307335289847</td>\n",
              "    </tr>\n",
              "    <tr>\n",
              "      <th>3</th>\n",
              "      <td>min</td>\n",
              "      <td>1</td>\n",
              "      <td>1</td>\n",
              "      <td>1</td>\n",
              "      <td>0</td>\n",
              "      <td>1</td>\n",
              "      <td>1</td>\n",
              "      <td>0</td>\n",
              "      <td>1</td>\n",
              "      <td>1</td>\n",
              "      <td>...</td>\n",
              "      <td>1</td>\n",
              "      <td>1</td>\n",
              "      <td>1</td>\n",
              "      <td>1</td>\n",
              "      <td>1</td>\n",
              "      <td>1</td>\n",
              "      <td>1</td>\n",
              "      <td>1</td>\n",
              "      <td>1</td>\n",
              "      <td>1</td>\n",
              "    </tr>\n",
              "    <tr>\n",
              "      <th>4</th>\n",
              "      <td>max</td>\n",
              "      <td>2</td>\n",
              "      <td>13</td>\n",
              "      <td>2</td>\n",
              "      <td>1</td>\n",
              "      <td>99</td>\n",
              "      <td>99</td>\n",
              "      <td>121</td>\n",
              "      <td>98</td>\n",
              "      <td>98</td>\n",
              "      <td>...</td>\n",
              "      <td>98</td>\n",
              "      <td>98</td>\n",
              "      <td>98</td>\n",
              "      <td>98</td>\n",
              "      <td>98</td>\n",
              "      <td>98</td>\n",
              "      <td>98</td>\n",
              "      <td>98</td>\n",
              "      <td>7</td>\n",
              "      <td>99</td>\n",
              "    </tr>\n",
              "  </tbody>\n",
              "</table>\n",
              "<p>5 rows × 21 columns</p>\n",
              "</div>"
            ],
            "text/plain": [
              "  summary                usmer        medical_unit                  sex  \\\n",
              "0   count              1048575             1048575              1048575   \n",
              "1    mean   1.6321941682759935   8.980565052571347   1.4992594711870872   \n",
              "2  stddev  0.48220838195439936  3.7232777781997557  0.49999969003549183   \n",
              "3     min                    1                   1                    1   \n",
              "4     max                    2                  13                    2   \n",
              "\n",
              "          patient_type            intubed           pneumonia  \\\n",
              "0              1048575            1048575             1048575   \n",
              "1  0.19076460911236678  79.52287533080609  3.3468306988055216   \n",
              "2   0.3929040852992876  36.86888627504416  11.912881086507987   \n",
              "3                    0                  1                   1   \n",
              "4                    1                 99                  99   \n",
              "\n",
              "                  age            pregnant            diabetes  ...  \\\n",
              "0             1048575             1048575             1048575  ...   \n",
              "1  41.794102472403026   49.76558472212288  2.1864044059795438  ...   \n",
              "2  16.907389199431183  47.510732711076386    5.42424178788834  ...   \n",
              "3                   0                   1                   1  ...   \n",
              "4                 121                  98                  98  ...   \n",
              "\n",
              "               asthma             inmsupr        hipertension  \\\n",
              "0             1048575             1048575             1048575   \n",
              "1  2.2426264215721337  2.2981322270700715  2.1289893426793505   \n",
              "2   5.114089259422005   5.462843261101409  5.2363970946060965   \n",
              "3                   1                   1                   1   \n",
              "4                  98                  98                  98   \n",
              "\n",
              "        other_disease      cardiovascular            obesity  \\\n",
              "0             1048575             1048575            1048575   \n",
              "1   2.435142932074482  2.2618095987411486  2.125175595450969   \n",
              "2  6.6466755910747075   5.194850371652742  5.175445110188388   \n",
              "3                   1                   1                  1   \n",
              "4                  98                  98                 98   \n",
              "\n",
              "        renal_chronic             tobacco clasiffication_final  \\\n",
              "0             1048575             1048575              1048575   \n",
              "1  2.2571795055193955  2.2143327849700785    5.305652909901533   \n",
              "2   5.135353853399502   5.323097220663561   1.8811654309355434   \n",
              "3                   1                   1                    1   \n",
              "4                  98                  98                    7   \n",
              "\n",
              "                 icu  \n",
              "0            1048575  \n",
              "1  79.55397372624752  \n",
              "2  36.82307335289847  \n",
              "3                  1  \n",
              "4                 99  \n",
              "\n",
              "[5 rows x 21 columns]"
            ]
          },
          "execution_count": 15,
          "metadata": {},
          "output_type": "execute_result"
        }
      ],
      "source": [
        "df.describe().toPandas()"
      ]
    },
    {
      "cell_type": "markdown",
      "metadata": {},
      "source": [
        "<h3><b>MELIHAT JUMLAH DATA UNIQUE TIAP KOLOM</b></h3>"
      ]
    },
    {
      "cell_type": "code",
      "execution_count": 16,
      "metadata": {},
      "outputs": [
        {
          "name": "stderr",
          "output_type": "stream",
          "text": [
            "                                                                                \r"
          ]
        },
        {
          "name": "stdout",
          "output_type": "stream",
          "text": [
            "Kolom 'usmer' Memiliki Jumlah Data Unique Sebanyak : 2\n"
          ]
        },
        {
          "name": "stderr",
          "output_type": "stream",
          "text": [
            "                                                                                \r"
          ]
        },
        {
          "name": "stdout",
          "output_type": "stream",
          "text": [
            "Kolom 'medical_unit' Memiliki Jumlah Data Unique Sebanyak : 13\n"
          ]
        },
        {
          "name": "stderr",
          "output_type": "stream",
          "text": [
            "                                                                                \r"
          ]
        },
        {
          "name": "stdout",
          "output_type": "stream",
          "text": [
            "Kolom 'sex' Memiliki Jumlah Data Unique Sebanyak : 2\n"
          ]
        },
        {
          "name": "stderr",
          "output_type": "stream",
          "text": [
            "                                                                                \r"
          ]
        },
        {
          "name": "stdout",
          "output_type": "stream",
          "text": [
            "Kolom 'patient_type' Memiliki Jumlah Data Unique Sebanyak : 2\n"
          ]
        },
        {
          "name": "stderr",
          "output_type": "stream",
          "text": [
            "                                                                                \r"
          ]
        },
        {
          "name": "stdout",
          "output_type": "stream",
          "text": [
            "Kolom 'intubed' Memiliki Jumlah Data Unique Sebanyak : 4\n"
          ]
        },
        {
          "name": "stderr",
          "output_type": "stream",
          "text": [
            "                                                                                \r"
          ]
        },
        {
          "name": "stdout",
          "output_type": "stream",
          "text": [
            "Kolom 'pneumonia' Memiliki Jumlah Data Unique Sebanyak : 3\n"
          ]
        },
        {
          "name": "stderr",
          "output_type": "stream",
          "text": [
            "                                                                                \r"
          ]
        },
        {
          "name": "stdout",
          "output_type": "stream",
          "text": [
            "Kolom 'age' Memiliki Jumlah Data Unique Sebanyak : 121\n"
          ]
        },
        {
          "name": "stderr",
          "output_type": "stream",
          "text": [
            "                                                                                \r"
          ]
        },
        {
          "name": "stdout",
          "output_type": "stream",
          "text": [
            "Kolom 'pregnant' Memiliki Jumlah Data Unique Sebanyak : 4\n"
          ]
        },
        {
          "name": "stderr",
          "output_type": "stream",
          "text": [
            "                                                                                \r"
          ]
        },
        {
          "name": "stdout",
          "output_type": "stream",
          "text": [
            "Kolom 'diabetes' Memiliki Jumlah Data Unique Sebanyak : 3\n"
          ]
        },
        {
          "name": "stderr",
          "output_type": "stream",
          "text": [
            "                                                                                \r"
          ]
        },
        {
          "name": "stdout",
          "output_type": "stream",
          "text": [
            "Kolom 'copd' Memiliki Jumlah Data Unique Sebanyak : 3\n"
          ]
        },
        {
          "name": "stderr",
          "output_type": "stream",
          "text": [
            "                                                                                \r"
          ]
        },
        {
          "name": "stdout",
          "output_type": "stream",
          "text": [
            "Kolom 'asthma' Memiliki Jumlah Data Unique Sebanyak : 3\n"
          ]
        },
        {
          "name": "stderr",
          "output_type": "stream",
          "text": [
            "                                                                                \r"
          ]
        },
        {
          "name": "stdout",
          "output_type": "stream",
          "text": [
            "Kolom 'inmsupr' Memiliki Jumlah Data Unique Sebanyak : 3\n"
          ]
        },
        {
          "name": "stderr",
          "output_type": "stream",
          "text": [
            "                                                                                \r"
          ]
        },
        {
          "name": "stdout",
          "output_type": "stream",
          "text": [
            "Kolom 'hipertension' Memiliki Jumlah Data Unique Sebanyak : 3\n"
          ]
        },
        {
          "name": "stderr",
          "output_type": "stream",
          "text": [
            "                                                                                \r"
          ]
        },
        {
          "name": "stdout",
          "output_type": "stream",
          "text": [
            "Kolom 'other_disease' Memiliki Jumlah Data Unique Sebanyak : 3\n"
          ]
        },
        {
          "name": "stderr",
          "output_type": "stream",
          "text": [
            "                                                                                \r"
          ]
        },
        {
          "name": "stdout",
          "output_type": "stream",
          "text": [
            "Kolom 'cardiovascular' Memiliki Jumlah Data Unique Sebanyak : 3\n"
          ]
        },
        {
          "name": "stderr",
          "output_type": "stream",
          "text": [
            "                                                                                \r"
          ]
        },
        {
          "name": "stdout",
          "output_type": "stream",
          "text": [
            "Kolom 'obesity' Memiliki Jumlah Data Unique Sebanyak : 3\n"
          ]
        },
        {
          "name": "stderr",
          "output_type": "stream",
          "text": [
            "                                                                                \r"
          ]
        },
        {
          "name": "stdout",
          "output_type": "stream",
          "text": [
            "Kolom 'renal_chronic' Memiliki Jumlah Data Unique Sebanyak : 3\n"
          ]
        },
        {
          "name": "stderr",
          "output_type": "stream",
          "text": [
            "                                                                                \r"
          ]
        },
        {
          "name": "stdout",
          "output_type": "stream",
          "text": [
            "Kolom 'tobacco' Memiliki Jumlah Data Unique Sebanyak : 3\n"
          ]
        },
        {
          "name": "stderr",
          "output_type": "stream",
          "text": [
            "                                                                                \r"
          ]
        },
        {
          "name": "stdout",
          "output_type": "stream",
          "text": [
            "Kolom 'clasiffication_final' Memiliki Jumlah Data Unique Sebanyak : 7\n"
          ]
        },
        {
          "name": "stderr",
          "output_type": "stream",
          "text": [
            "[Stage 127:==============>                                          (2 + 6) / 8]\r"
          ]
        },
        {
          "name": "stdout",
          "output_type": "stream",
          "text": [
            "Kolom 'icu' Memiliki Jumlah Data Unique Sebanyak : 4\n"
          ]
        },
        {
          "name": "stderr",
          "output_type": "stream",
          "text": [
            "                                                                                \r"
          ]
        }
      ],
      "source": [
        "for x in df.columns:\n",
        "    print(f\"Kolom '{x}' Memiliki Jumlah Data Unique Sebanyak : {df.dropDuplicates([x]).select(x).count()}\")"
      ]
    },
    {
      "cell_type": "markdown",
      "metadata": {},
      "source": [
        "<h2><b>VISUALISASI DATA</b></h2>"
      ]
    },
    {
      "cell_type": "markdown",
      "metadata": {},
      "source": [
        "<h3><b>MELIHAT VISUALISASI DATA CORELASI ANTAR VARIABEL</b></h3>"
      ]
    },
    {
      "cell_type": "code",
      "execution_count": 17,
      "metadata": {},
      "outputs": [
        {
          "data": {
            "text/plain": [
              "['usmer',\n",
              " 'medical_unit',\n",
              " 'sex',\n",
              " 'patient_type',\n",
              " 'intubed',\n",
              " 'pneumonia',\n",
              " 'age',\n",
              " 'pregnant',\n",
              " 'diabetes',\n",
              " 'copd',\n",
              " 'asthma',\n",
              " 'inmsupr',\n",
              " 'hipertension',\n",
              " 'other_disease',\n",
              " 'cardiovascular',\n",
              " 'obesity',\n",
              " 'renal_chronic',\n",
              " 'tobacco',\n",
              " 'clasiffication_final',\n",
              " 'icu']"
            ]
          },
          "execution_count": 17,
          "metadata": {},
          "output_type": "execute_result"
        }
      ],
      "source": [
        "features = [col_name for col_name, col_type in df.dtypes if col_type in ['int', 'double','float']]\n",
        "features"
      ]
    },
    {
      "cell_type": "code",
      "execution_count": 18,
      "metadata": {},
      "outputs": [],
      "source": [
        "vector_assembler = VectorAssembler(inputCols=features, outputCol=\"features\")\n",
        "df_assembler = vector_assembler.transform(df).select(\"features\")"
      ]
    },
    {
      "cell_type": "code",
      "execution_count": 19,
      "metadata": {},
      "outputs": [
        {
          "name": "stderr",
          "output_type": "stream",
          "text": [
            "                                                                                \r"
          ]
        }
      ],
      "source": [
        "matrix = Correlation.corr(df_assembler,\"features\").head()"
      ]
    },
    {
      "cell_type": "code",
      "execution_count": 20,
      "metadata": {},
      "outputs": [
        {
          "data": {
            "image/png": "[encoded data removed]",
            "text/plain": [
              "<Figure size 1400x1000 with 2 Axes>"
            ]
          },
          "metadata": {},
          "output_type": "display_data"
        }
      ],
      "source": [
        "plt.figure(figsize=(14,10))\n",
        "sns.heatmap(pd.DataFrame(matrix[0].toArray(),columns=features,index=features),fmt='.2f',annot=True, xticklabels=features, yticklabels=features)\n",
        "plt.title(\"Memvisualisasikan Korelasi Antar Variabel Menggunakan Heatmap\")\n",
        "plt.show()"
      ]
    },
    {
      "cell_type": "markdown",
      "metadata": {},
      "source": [
        "<h3><b>SELEKSI FITUR PREDIKSI</b></h3>"
      ]
    },
    {
      "cell_type": "code",
      "execution_count": 21,
      "metadata": {},
      "outputs": [],
      "source": [
        "fitur_prediksi = ['age','medical_unit','usmer','clasiffication_final']\n",
        "assembler = VectorAssembler(inputCols=fitur_prediksi,outputCol='independentFeature')\n",
        "df_prediction = assembler.transform(df).select('independentFeature','patient_type')"
      ]
    },
    {
      "cell_type": "markdown",
      "metadata": {},
      "source": [
        "<h3><b>MENAMPILKAN HASIL VECTOR INDEPENDENT FEATURE</b></h3>"
      ]
    },
    {
      "cell_type": "code",
      "execution_count": 22,
      "metadata": {},
      "outputs": [
        {
          "name": "stdout",
          "output_type": "stream",
          "text": [
            "+------------------+------------+\n",
            "|independentFeature|patient_type|\n",
            "+------------------+------------+\n",
            "|[65.0,1.0,2.0,3.0]|           0|\n",
            "|[72.0,1.0,2.0,5.0]|           0|\n",
            "|[55.0,1.0,2.0,3.0]|           1|\n",
            "|[53.0,1.0,2.0,7.0]|           0|\n",
            "|[68.0,1.0,2.0,3.0]|           0|\n",
            "+------------------+------------+\n",
            "only showing top 5 rows\n",
            "\n"
          ]
        }
      ],
      "source": [
        "df_prediction.show(5)"
      ]
    },
    {
      "cell_type": "markdown",
      "metadata": {},
      "source": [
        "<h2><b>BUILDING MODEL PREDICTION</b></h2>"
      ]
    },
    {
      "cell_type": "markdown",
      "metadata": {},
      "source": [
        "<h3><b>LINEAR REGRESSION</b></h3>"
      ]
    },
    {
      "cell_type": "markdown",
      "metadata": {},
      "source": [
        "<h4><b>SPLIT DATASET</b></h4>"
      ]
    },
    {
      "cell_type": "code",
      "execution_count": 23,
      "metadata": {},
      "outputs": [],
      "source": [
        "train_data,test_data = df_prediction.randomSplit([0.7,0.3])"
      ]
    },
    {
      "cell_type": "markdown",
      "metadata": {},
      "source": [
        "<h4><b>BUILD MODEL PREDICTION</b></h4>"
      ]
    },
    {
      "cell_type": "code",
      "execution_count": 24,
      "metadata": {},
      "outputs": [
        {
          "name": "stderr",
          "output_type": "stream",
          "text": [
            "23/12/11 06:01:18 WARN Instrumentation: [23d5ed9c] regParam is zero, which might cause numerical instability and overfitting.\n",
            "                                                                                \r"
          ]
        }
      ],
      "source": [
        "linreg = LinearRegression(featuresCol='independentFeature',labelCol='patient_type')\n",
        "linreg = linreg.fit(train_data)"
      ]
    },
    {
      "cell_type": "markdown",
      "metadata": {},
      "source": [
        "<h4><b>PREDICTION DATA</b></h4>"
      ]
    },
    {
      "cell_type": "code",
      "execution_count": 25,
      "metadata": {},
      "outputs": [],
      "source": [
        "predictions = linreg.transform(test_data)"
      ]
    },
    {
      "cell_type": "code",
      "execution_count": 26,
      "metadata": {},
      "outputs": [
        {
          "name": "stderr",
          "output_type": "stream",
          "text": [
            "                                                                                \r"
          ]
        }
      ],
      "source": [
        "prediction_data = linreg.evaluate(test_data)"
      ]
    },
    {
      "cell_type": "markdown",
      "metadata": {},
      "source": [
        "<h4><b>SHOW PREDICTION DATA</b></h4>"
      ]
    },
    {
      "cell_type": "code",
      "execution_count": 27,
      "metadata": {},
      "outputs": [
        {
          "name": "stderr",
          "output_type": "stream",
          "text": [
            "[Stage 146:>                                                        (0 + 1) / 1]\r"
          ]
        },
        {
          "name": "stdout",
          "output_type": "stream",
          "text": [
            "+------------------+------------+-------------------+\n",
            "|independentFeature|patient_type|         prediction|\n",
            "+------------------+------------+-------------------+\n",
            "| [0.0,2.0,1.0,5.0]|           1|0.12145045285454298|\n",
            "| [0.0,2.0,1.0,6.0]|           0|0.09543585645299513|\n",
            "| [0.0,2.0,1.0,7.0]|           1|0.06942126005144728|\n",
            "| [0.0,2.0,1.0,7.0]|           1|0.06942126005144728|\n",
            "| [0.0,3.0,1.0,3.0]|           0| 0.1575220298131994|\n",
            "+------------------+------------+-------------------+\n",
            "only showing top 5 rows\n",
            "\n"
          ]
        },
        {
          "name": "stderr",
          "output_type": "stream",
          "text": [
            "                                                                                \r"
          ]
        }
      ],
      "source": [
        "prediction_data.predictions.show(5)"
      ]
    },
    {
      "cell_type": "markdown",
      "metadata": {},
      "source": [
        "<h4><b>EVALUASI MODEL DENGAN RMSE</b></h4>"
      ]
    },
    {
      "cell_type": "code",
      "execution_count": 28,
      "metadata": {},
      "outputs": [
        {
          "name": "stderr",
          "output_type": "stream",
          "text": [
            "[Stage 147:=================================================>       (7 + 1) / 8]\r"
          ]
        },
        {
          "name": "stdout",
          "output_type": "stream",
          "text": [
            "Nilai Root Mean Squared Error (RMSE): 0.3578731562149917\n"
          ]
        },
        {
          "name": "stderr",
          "output_type": "stream",
          "text": [
            "                                                                                \r"
          ]
        }
      ],
      "source": [
        "evaluator = RegressionEvaluator(labelCol=\"patient_type\", predictionCol=\"prediction\", metricName=\"rmse\")\n",
        "rmse = evaluator.evaluate(predictions)\n",
        "print(f\"Nilai Root Mean Squared Error (RMSE): {rmse}\")"
      ]
    },
    {
      "cell_type": "markdown",
      "metadata": {},
      "source": [
        "<h4><b>EVALUASI MODEL DENGAN MSE</b></h4>"
      ]
    },
    {
      "cell_type": "code",
      "execution_count": 29,
      "metadata": {},
      "outputs": [
        {
          "name": "stderr",
          "output_type": "stream",
          "text": [
            "[Stage 149:============================>                            (4 + 4) / 8]\r"
          ]
        },
        {
          "name": "stdout",
          "output_type": "stream",
          "text": [
            "Nili Mean Square Error (MSE): 0.12807319593927985\n"
          ]
        },
        {
          "name": "stderr",
          "output_type": "stream",
          "text": [
            "                                                                                \r"
          ]
        }
      ],
      "source": [
        "evaluator = RegressionEvaluator(labelCol=\"patient_type\", predictionCol=\"prediction\", metricName=\"mse\")\n",
        "mse = evaluator.evaluate(predictions)\n",
        "print(f\"Nili Mean Square Error (MSE): {mse}\")"
      ]
    },
    {
      "cell_type": "markdown",
      "metadata": {},
      "source": [
        "<h3><b>LOGISTIC REGRESSION</b></h3>"
      ]
    },
    {
      "cell_type": "markdown",
      "metadata": {},
      "source": [
        "<h4><b>SPLIT DATASET</b></h4>"
      ]
    },
    {
      "cell_type": "code",
      "execution_count": 30,
      "metadata": {},
      "outputs": [],
      "source": [
        "train_data,test_data = df_prediction.randomSplit([0.7,0.3])"
      ]
    },
    {
      "cell_type": "markdown",
      "metadata": {},
      "source": [
        "<h4><b>BUILD MODEL PREDICTION</b></h4>"
      ]
    },
    {
      "cell_type": "code",
      "execution_count": 31,
      "metadata": {},
      "outputs": [],
      "source": [
        "logreg = LogisticRegression(featuresCol='independentFeature',labelCol='patient_type',maxIter=10, regParam=0.3, elasticNetParam=0.8, family=\"multinomial\")"
      ]
    },
    {
      "cell_type": "markdown",
      "metadata": {},
      "source": [
        "<h4><b>TRAINING MODEL</b></h4>"
      ]
    },
    {
      "cell_type": "code",
      "execution_count": 32,
      "metadata": {},
      "outputs": [
        {
          "name": "stderr",
          "output_type": "stream",
          "text": [
            "                                                                                \r"
          ]
        }
      ],
      "source": [
        "logreg_model = logreg.fit(train_data)"
      ]
    },
    {
      "cell_type": "markdown",
      "metadata": {},
      "source": [
        "<h4><b>PREDICTION DATA FROM MODEL</b></h4>"
      ]
    },
    {
      "cell_type": "code",
      "execution_count": 33,
      "metadata": {},
      "outputs": [],
      "source": [
        "logreg_prediction = logreg_model.transform(test_data)"
      ]
    },
    {
      "cell_type": "markdown",
      "metadata": {},
      "source": [
        "<h4><b>HASIL PREDIKSI</b></h4>"
      ]
    },
    {
      "cell_type": "code",
      "execution_count": 34,
      "metadata": {},
      "outputs": [
        {
          "name": "stderr",
          "output_type": "stream",
          "text": [
            "[Stage 169:>                                                        (0 + 1) / 1]\r"
          ]
        },
        {
          "name": "stdout",
          "output_type": "stream",
          "text": [
            "+------------------+------------+--------------------+--------------------+----------+\n",
            "|independentFeature|patient_type|       rawPrediction|         probability|prediction|\n",
            "+------------------+------------+--------------------+--------------------+----------+\n",
            "| [0.0,2.0,1.0,7.0]|           1|[0.72329594488398...|[0.80947336828262...|       0.0|\n",
            "| [0.0,3.0,1.0,3.0]|           0|[0.72329594488398...|[0.80947336828262...|       0.0|\n",
            "| [0.0,3.0,1.0,3.0]|           0|[0.72329594488398...|[0.80947336828262...|       0.0|\n",
            "| [0.0,3.0,1.0,3.0]|           0|[0.72329594488398...|[0.80947336828262...|       0.0|\n",
            "| [0.0,3.0,1.0,3.0]|           1|[0.72329594488398...|[0.80947336828262...|       0.0|\n",
            "+------------------+------------+--------------------+--------------------+----------+\n",
            "only showing top 5 rows\n",
            "\n"
          ]
        },
        {
          "name": "stderr",
          "output_type": "stream",
          "text": [
            "                                                                                \r"
          ]
        }
      ],
      "source": [
        "logreg_prediction.show(5)"
      ]
    },
    {
      "cell_type": "markdown",
      "metadata": {},
      "source": [
        "<h4><b>MEMBUAT FUNGSI UNTUK DEFINISI MODEL</b></h4>"
      ]
    },
    {
      "cell_type": "code",
      "execution_count": 35,
      "metadata": {},
      "outputs": [],
      "source": [
        "def evaluator_logistic(metricName):\n",
        "    return MulticlassClassificationEvaluator(\n",
        "    labelCol='patient_type',\n",
        "    predictionCol='prediction',\n",
        "    metricName=metricName\n",
        "    )"
      ]
    },
    {
      "cell_type": "markdown",
      "metadata": {},
      "source": [
        "<h4><b>EVALUASI MODEL PREDIKSI ACCURACY</b></h4>"
      ]
    },
    {
      "cell_type": "code",
      "execution_count": 36,
      "metadata": {},
      "outputs": [
        {
          "name": "stderr",
          "output_type": "stream",
          "text": [
            "[Stage 170:==========================================>              (6 + 2) / 8]\r"
          ]
        },
        {
          "name": "stdout",
          "output_type": "stream",
          "text": [
            "Test Accuracy: 80.87%\n"
          ]
        },
        {
          "name": "stderr",
          "output_type": "stream",
          "text": [
            "                                                                                \r"
          ]
        }
      ],
      "source": [
        "evaluator = evaluator_logistic('accuracy')\n",
        "accuracy = evaluator.evaluate(logreg_prediction)\n",
        "print(f'Test Accuracy: {accuracy:.2%}')"
      ]
    },
    {
      "cell_type": "markdown",
      "metadata": {},
      "source": [
        "<h4><b>EVALUASI MODEL PREDIKSI F1</b></h4>"
      ]
    },
    {
      "cell_type": "code",
      "execution_count": 37,
      "metadata": {},
      "outputs": [
        {
          "name": "stderr",
          "output_type": "stream",
          "text": [
            "[Stage 172:============================>                            (4 + 4) / 8]\r"
          ]
        },
        {
          "name": "stdout",
          "output_type": "stream",
          "text": [
            "Nilai Evaluasi F1-Score : 72.31% %\n"
          ]
        },
        {
          "name": "stderr",
          "output_type": "stream",
          "text": [
            "                                                                                \r"
          ]
        }
      ],
      "source": [
        "evaluator = evaluator_logistic('f1')\n",
        "f1 = evaluator.evaluate(logreg_prediction)\n",
        "print(f\"Nilai Evaluasi F1-Score : {f1:.2%} %\" )"
      ]
    },
    {
      "cell_type": "markdown",
      "metadata": {},
      "source": [
        "<h4><b>EVALUASI MODEL PREDIKSI PRESISI</b></h4>"
      ]
    },
    {
      "cell_type": "code",
      "execution_count": 38,
      "metadata": {},
      "outputs": [
        {
          "name": "stderr",
          "output_type": "stream",
          "text": [
            "[Stage 174:==========================================>              (6 + 2) / 8]\r"
          ]
        },
        {
          "name": "stdout",
          "output_type": "stream",
          "text": [
            "Nilai Evaluasi Presisi Model : 65.40% %\n"
          ]
        },
        {
          "name": "stderr",
          "output_type": "stream",
          "text": [
            "                                                                                \r"
          ]
        }
      ],
      "source": [
        "evaluator = evaluator_logistic('weightedPrecision')\n",
        "f1 = evaluator.evaluate(logreg_prediction)\n",
        "print(f\"Nilai Evaluasi Presisi Model : {f1:.2%} %\" )"
      ]
    },
    {
      "cell_type": "markdown",
      "metadata": {},
      "source": [
        "<h4><b>EVALUASI MODEL PREDIKSI RECALL</b></h4>"
      ]
    },
    {
      "cell_type": "code",
      "execution_count": 39,
      "metadata": {},
      "outputs": [
        {
          "name": "stderr",
          "output_type": "stream",
          "text": [
            "[Stage 176:=======>                                                 (1 + 7) / 8]\r"
          ]
        },
        {
          "name": "stdout",
          "output_type": "stream",
          "text": [
            "Nilai Evaluasi Presisi Model : 80.87% %\n"
          ]
        },
        {
          "name": "stderr",
          "output_type": "stream",
          "text": [
            "                                                                                \r"
          ]
        }
      ],
      "source": [
        "evaluator = evaluator_logistic('weightedRecall')\n",
        "f1 = evaluator.evaluate(logreg_prediction)\n",
        "print(f\"Nilai Evaluasi Presisi Model : {f1:.2%} %\" )"
      ]
    },
    {
      "cell_type": "markdown",
      "metadata": {},
      "source": [
        "<h3><b>RANDOM FOREST</b></h3>"
      ]
    },
    {
      "cell_type": "markdown",
      "metadata": {},
      "source": [
        "<h4><b>SPLITING DATA</b></h4>"
      ]
    },
    {
      "cell_type": "code",
      "execution_count": 40,
      "metadata": {},
      "outputs": [],
      "source": [
        "train_data,test_data = df_prediction.randomSplit([0.7,0.3])"
      ]
    },
    {
      "cell_type": "markdown",
      "metadata": {},
      "source": [
        "<h4><b>BUILDING MODEL PREDICITON</b></h4>"
      ]
    },
    {
      "cell_type": "code",
      "execution_count": 41,
      "metadata": {},
      "outputs": [],
      "source": [
        "randomForest = RandomForestClassifier(labelCol=\"patient_type\",featuresCol='independentFeature',numTrees=100)"
      ]
    },
    {
      "cell_type": "markdown",
      "metadata": {},
      "source": [
        "<h4><b>TRAINING MODEL PREDICTION</b></h4>"
      ]
    },
    {
      "cell_type": "code",
      "execution_count": 42,
      "metadata": {},
      "outputs": [
        {
          "name": "stderr",
          "output_type": "stream",
          "text": [
            "23/12/11 06:03:02 WARN MemoryStore: Not enough space to cache rdd_465_3 in memory! (computed 30.1 MiB so far)\n",
            "23/12/11 06:03:02 WARN MemoryStore: Not enough space to cache rdd_465_5 in memory! (computed 30.1 MiB so far)\n",
            "23/12/11 06:03:02 WARN BlockManager: Persisting block rdd_465_5 to disk instead.\n",
            "23/12/11 06:03:02 WARN BlockManager: Persisting block rdd_465_3 to disk instead.\n",
            "                                                                                \r"
          ]
        }
      ],
      "source": [
        "ranrest_model = randomForest.fit(train_data)"
      ]
    },
    {
      "cell_type": "markdown",
      "metadata": {},
      "source": [
        "<h4><b>PREDICT DATA FROM MODEL</b></h4>"
      ]
    },
    {
      "cell_type": "code",
      "execution_count": 43,
      "metadata": {},
      "outputs": [],
      "source": [
        "predictions = ranrest_model.transform(test_data)"
      ]
    },
    {
      "cell_type": "markdown",
      "metadata": {},
      "source": [
        "<h4><b>EVALUASI MODEL ACCURACY</b></h4>"
      ]
    },
    {
      "cell_type": "code",
      "execution_count": 44,
      "metadata": {},
      "outputs": [
        {
          "name": "stderr",
          "output_type": "stream",
          "text": [
            "[Stage 195:=================================================>       (7 + 1) / 8]\r"
          ]
        },
        {
          "name": "stdout",
          "output_type": "stream",
          "text": [
            "Nilai Accuracy Model Random Forest : 84.58%\n"
          ]
        },
        {
          "name": "stderr",
          "output_type": "stream",
          "text": [
            "                                                                                \r"
          ]
        }
      ],
      "source": [
        "evaluator_ranrest = MulticlassClassificationEvaluator(labelCol='patient_type',predictionCol='prediction',metricName='accuracy')\n",
        "accuracy_ranrest = evaluator_ranrest.evaluate(predictions)\n",
        "print(f\"Nilai Accuracy Model Random Forest : {accuracy_ranrest:.2%}\")"
      ]
    },
    {
      "cell_type": "markdown",
      "metadata": {},
      "source": [
        "<h4><b>EVALUASI MODEL DENGAN F1-Score</b></h4>"
      ]
    },
    {
      "cell_type": "code",
      "execution_count": 45,
      "metadata": {},
      "outputs": [
        {
          "name": "stderr",
          "output_type": "stream",
          "text": [
            "[Stage 197:===================================>                     (5 + 3) / 8]\r"
          ]
        },
        {
          "name": "stdout",
          "output_type": "stream",
          "text": [
            "Nilai F1-Score Model Random Forest : 82.41%\n"
          ]
        },
        {
          "name": "stderr",
          "output_type": "stream",
          "text": [
            "                                                                                \r"
          ]
        }
      ],
      "source": [
        "evaluator_ranrest = MulticlassClassificationEvaluator(labelCol='patient_type',predictionCol='prediction',metricName='f1')\n",
        "accuracy_ranrest = evaluator_ranrest.evaluate(predictions)\n",
        "print(f\"Nilai F1-Score Model Random Forest : {accuracy_ranrest:.2%}\")"
      ]
    },
    {
      "cell_type": "markdown",
      "metadata": {},
      "source": [
        "<h4><b>EVALUASI MODEL DENGAN PRESISI</b></h4>"
      ]
    },
    {
      "cell_type": "code",
      "execution_count": 46,
      "metadata": {},
      "outputs": [
        {
          "name": "stderr",
          "output_type": "stream",
          "text": [
            "[Stage 199:============================>                            (4 + 4) / 8]\r"
          ]
        },
        {
          "name": "stdout",
          "output_type": "stream",
          "text": [
            "Nilai Presisi Model Random Forest : 82.98%\n"
          ]
        },
        {
          "name": "stderr",
          "output_type": "stream",
          "text": [
            "                                                                                \r"
          ]
        }
      ],
      "source": [
        "evaluator_ranrest = MulticlassClassificationEvaluator(labelCol='patient_type',predictionCol='prediction',metricName='weightedPrecision')\n",
        "accuracy_ranrest = evaluator_ranrest.evaluate(predictions)\n",
        "print(f\"Nilai Presisi Model Random Forest : {accuracy_ranrest:.2%}\")"
      ]
    },
    {
      "cell_type": "markdown",
      "metadata": {},
      "source": [
        "<h4><b>EVALUASI MODEL DENGAN RECALL</b></h4>"
      ]
    },
    {
      "cell_type": "code",
      "execution_count": 47,
      "metadata": {},
      "outputs": [
        {
          "name": "stderr",
          "output_type": "stream",
          "text": [
            "[Stage 201:=====================>                                   (3 + 5) / 8]\r"
          ]
        },
        {
          "name": "stdout",
          "output_type": "stream",
          "text": [
            "Nilai Presisi Model Random Forest : 84.58%\n"
          ]
        },
        {
          "name": "stderr",
          "output_type": "stream",
          "text": [
            "                                                                                \r"
          ]
        }
      ],
      "source": [
        "evaluator_ranrest = MulticlassClassificationEvaluator(labelCol='patient_type',predictionCol='prediction',metricName='weightedRecall')\n",
        "accuracy_ranrest = evaluator_ranrest.evaluate(predictions)\n",
        "print(f\"Nilai Presisi Model Random Forest : {accuracy_ranrest:.2%}\")"
      ]
    },
    {
      "cell_type": "markdown",
      "metadata": {},
      "source": [
        "<h3><b>MULTILAYER PERCEPTRON CLASSIFIER</b></h3>"
      ]
    },
    {
      "cell_type": "markdown",
      "metadata": {},
      "source": [
        "<h4><b>SPLITTING DATA</b></h4>"
      ]
    },
    {
      "cell_type": "code",
      "execution_count": 48,
      "metadata": {},
      "outputs": [],
      "source": [
        "train_data,test_data = df_prediction.randomSplit([0.7,0.3])"
      ]
    },
    {
      "cell_type": "markdown",
      "metadata": {},
      "source": [
        "<h4><b>INITIAL BUILDING MODEL MLP</b></h4>"
      ]
    },
    {
      "cell_type": "code",
      "execution_count": 49,
      "metadata": {},
      "outputs": [],
      "source": [
        "layer = [4,5,2]\n",
        "mlp = MultilayerPerceptronClassifier(layers=layer, labelCol=\"patient_type\", featuresCol=\"independentFeature\", seed=42)"
      ]
    },
    {
      "cell_type": "markdown",
      "metadata": {},
      "source": [
        "<h4><b>TRAINING MODEL</b></h4>"
      ]
    },
    {
      "cell_type": "code",
      "execution_count": 50,
      "metadata": {},
      "outputs": [
        {
          "name": "stderr",
          "output_type": "stream",
          "text": [
            "                                                                                \r"
          ]
        }
      ],
      "source": [
        "mlp_model = mlp.fit(train_data)"
      ]
    },
    {
      "cell_type": "markdown",
      "metadata": {},
      "source": [
        "<h4><b>PREDICTION DATA FROM MODEL</b></h4>"
      ]
    },
    {
      "cell_type": "code",
      "execution_count": 51,
      "metadata": {},
      "outputs": [],
      "source": [
        "predictions = mlp_model.transform(test_data)"
      ]
    },
    {
      "cell_type": "markdown",
      "metadata": {},
      "source": [
        "<h4><b>EVALUASI MODEL PREDIKSI DENGAN ACCURACY</b></h4>"
      ]
    },
    {
      "cell_type": "code",
      "execution_count": 52,
      "metadata": {},
      "outputs": [
        {
          "name": "stderr",
          "output_type": "stream",
          "text": [
            "[Stage 456:==============>                                          (2 + 6) / 8]\r"
          ]
        },
        {
          "name": "stdout",
          "output_type": "stream",
          "text": [
            "Nilai Accuracy Model Random Forest : 84.30%\n"
          ]
        },
        {
          "name": "stderr",
          "output_type": "stream",
          "text": [
            "                                                                                \r"
          ]
        }
      ],
      "source": [
        "evaluator_mlp = MulticlassClassificationEvaluator(labelCol='patient_type',predictionCol='prediction',metricName='accuracy')\n",
        "accuracy_mlp = evaluator_mlp.evaluate(predictions)\n",
        "print(f\"Nilai Accuracy Model Random Forest : {accuracy_mlp:.2%}\")"
      ]
    },
    {
      "cell_type": "markdown",
      "metadata": {},
      "source": [
        "<h4><b>EVALUASI MODEL PREDIKSI DENGAN F1-Score</b></h4>"
      ]
    },
    {
      "cell_type": "code",
      "execution_count": 53,
      "metadata": {},
      "outputs": [
        {
          "name": "stderr",
          "output_type": "stream",
          "text": [
            "[Stage 458:=======>                                                 (1 + 7) / 8]\r"
          ]
        },
        {
          "name": "stdout",
          "output_type": "stream",
          "text": [
            "Nilai Accuracy Model Random Forest : 82.66%\n"
          ]
        },
        {
          "name": "stderr",
          "output_type": "stream",
          "text": [
            "                                                                                \r"
          ]
        }
      ],
      "source": [
        "evaluator_mlp = MulticlassClassificationEvaluator(labelCol='patient_type',predictionCol='prediction',metricName='f1')\n",
        "f1_mlp = evaluator_mlp.evaluate(predictions)\n",
        "print(f\"Nilai Accuracy Model Random Forest : {f1_mlp:.2%}\")"
      ]
    },
    {
      "cell_type": "markdown",
      "metadata": {},
      "source": [
        "<h4><b>EVALUASI MODEL PREDIKSI DENGAN PRESISI</b></h4>"
      ]
    },
    {
      "cell_type": "code",
      "execution_count": 54,
      "metadata": {},
      "outputs": [
        {
          "name": "stderr",
          "output_type": "stream",
          "text": [
            "[Stage 460:===================================>                     (5 + 3) / 8]\r"
          ]
        },
        {
          "name": "stdout",
          "output_type": "stream",
          "text": [
            "Nilai Accuracy Model Random Forest : 82.60%\n"
          ]
        },
        {
          "name": "stderr",
          "output_type": "stream",
          "text": [
            "                                                                                \r"
          ]
        }
      ],
      "source": [
        "evaluator_mlp = MulticlassClassificationEvaluator(labelCol='patient_type',predictionCol='prediction',metricName='weightedPrecision')\n",
        "presisi_mlp = evaluator_mlp.evaluate(predictions)\n",
        "print(f\"Nilai Accuracy Model Random Forest : {presisi_mlp:.2%}\")"
      ]
    },
    {
      "cell_type": "markdown",
      "metadata": {},
      "source": [
        "<h4><b>EVALUASI MODEL PREDIKSI DENGAN RECALL</b></h4>"
      ]
    },
    {
      "cell_type": "code",
      "execution_count": 55,
      "metadata": {},
      "outputs": [
        {
          "name": "stderr",
          "output_type": "stream",
          "text": [
            "[Stage 462:===================================>                     (5 + 3) / 8]\r"
          ]
        },
        {
          "name": "stdout",
          "output_type": "stream",
          "text": [
            "Nilai Accuracy Model Random Forest : 82.66%\n"
          ]
        },
        {
          "name": "stderr",
          "output_type": "stream",
          "text": [
            "                                                                                \r"
          ]
        }
      ],
      "source": [
        "evaluator_mlp = MulticlassClassificationEvaluator(labelCol='patient_type',predictionCol='prediction',metricName='weightedRecall')\n",
        "recall_mlp = evaluator_mlp.evaluate(predictions)\n",
        "print(f\"Nilai Accuracy Model Random Forest : {f1_mlp:.2%}\")"
      ]
    },
    {
      "cell_type": "markdown",
      "metadata": {},
      "source": [
        "<h3><b>NAIVE BAYES</b></h3>"
      ]
    },
    {
      "cell_type": "markdown",
      "metadata": {},
      "source": [
        "<h4><b>SPLITTING DATA</b></h4>"
      ]
    },
    {
      "cell_type": "code",
      "execution_count": 56,
      "metadata": {},
      "outputs": [],
      "source": [
        "train_data,test_data = df_prediction.randomSplit([0.7,0.3])"
      ]
    },
    {
      "cell_type": "markdown",
      "metadata": {},
      "source": [
        "<h4><b>BUILDING MODEL</b></h4>"
      ]
    },
    {
      "cell_type": "code",
      "execution_count": 57,
      "metadata": {},
      "outputs": [],
      "source": [
        "nb = NaiveBayes(featuresCol='independentFeature', labelCol='patient_type', smoothing=1.0, modelType=\"multinomial\")"
      ]
    },
    {
      "cell_type": "markdown",
      "metadata": {},
      "source": [
        "<h4><b>TRAINING MODEL</b></h4>"
      ]
    },
    {
      "cell_type": "code",
      "execution_count": 58,
      "metadata": {},
      "outputs": [
        {
          "name": "stderr",
          "output_type": "stream",
          "text": [
            "                                                                                \r"
          ]
        }
      ],
      "source": [
        "nb_model = nb.fit(train_data)"
      ]
    },
    {
      "cell_type": "markdown",
      "metadata": {},
      "source": [
        "<h4><b>PREDICTION MODEL</b></h4>"
      ]
    },
    {
      "cell_type": "code",
      "execution_count": 59,
      "metadata": {},
      "outputs": [],
      "source": [
        "predictions = nb_model.transform(test_data)"
      ]
    },
    {
      "cell_type": "markdown",
      "metadata": {},
      "source": [
        "<h4><b>EVALUASI MODEL DENGAN ACCURACY</b></h4>"
      ]
    },
    {
      "cell_type": "code",
      "execution_count": 60,
      "metadata": {},
      "outputs": [
        {
          "name": "stderr",
          "output_type": "stream",
          "text": [
            "[Stage 467:==========================================>              (6 + 2) / 8]\r"
          ]
        },
        {
          "name": "stdout",
          "output_type": "stream",
          "text": [
            "Nilai Accuracy Model Dengan Naive Bayes : 80.27%\n"
          ]
        },
        {
          "name": "stderr",
          "output_type": "stream",
          "text": [
            "                                                                                \r"
          ]
        }
      ],
      "source": [
        "evaluator_bayes = MulticlassClassificationEvaluator(\n",
        "    labelCol='patient_type',\n",
        "    predictionCol='prediction',\n",
        "    metricName='accuracy'\n",
        ")\n",
        "accuracy_bayes = evaluator_bayes.evaluate(predictions)\n",
        "print(f\"Nilai Accuracy Model Dengan Naive Bayes : {accuracy_bayes:.2%}\")"
      ]
    },
    {
      "cell_type": "markdown",
      "metadata": {},
      "source": [
        "<h4><b>EVALUASI MODEL DENGAN F1-Score</b></h4>"
      ]
    },
    {
      "cell_type": "code",
      "execution_count": 61,
      "metadata": {},
      "outputs": [
        {
          "name": "stderr",
          "output_type": "stream",
          "text": [
            "[Stage 469:=======>                                                 (1 + 7) / 8]\r"
          ]
        },
        {
          "name": "stdout",
          "output_type": "stream",
          "text": [
            "Nilai F1-Score Model Dengan Naive Bayes : 80.76%\n"
          ]
        },
        {
          "name": "stderr",
          "output_type": "stream",
          "text": [
            "                                                                                \r"
          ]
        }
      ],
      "source": [
        "evaluator_bayes = MulticlassClassificationEvaluator(\n",
        "    labelCol='patient_type',\n",
        "    predictionCol='prediction',\n",
        "    metricName='f1'\n",
        ")\n",
        "f1_bayes = evaluator_bayes.evaluate(predictions)\n",
        "print(f\"Nilai F1-Score Model Dengan Naive Bayes : {f1_bayes:.2%}\")"
      ]
    },
    {
      "cell_type": "markdown",
      "metadata": {},
      "source": [
        "<h4><b>EVALUASI MODEL DENGAN PRESISI</b></h4>"
      ]
    },
    {
      "cell_type": "code",
      "execution_count": 62,
      "metadata": {},
      "outputs": [
        {
          "name": "stderr",
          "output_type": "stream",
          "text": [
            "[Stage 471:==========================================>              (6 + 2) / 8]\r"
          ]
        },
        {
          "name": "stdout",
          "output_type": "stream",
          "text": [
            "Nilai Presisi Model Dengan Naive Bayes : 81.39%\n"
          ]
        },
        {
          "name": "stderr",
          "output_type": "stream",
          "text": [
            "                                                                                \r"
          ]
        }
      ],
      "source": [
        "evaluator_bayes = MulticlassClassificationEvaluator(\n",
        "    labelCol='patient_type',\n",
        "    predictionCol='prediction',\n",
        "    metricName='weightedPrecision'\n",
        ")\n",
        "presisi_bayes = evaluator_bayes.evaluate(predictions)\n",
        "print(f\"Nilai Presisi Model Dengan Naive Bayes : {presisi_bayes:.2%}\")"
      ]
    },
    {
      "cell_type": "markdown",
      "metadata": {},
      "source": [
        "<h4><b>EVALUASI MODEL DENGAN RECALL</b></h4>"
      ]
    },
    {
      "cell_type": "code",
      "execution_count": 63,
      "metadata": {},
      "outputs": [
        {
          "name": "stderr",
          "output_type": "stream",
          "text": [
            "[Stage 473:==========================================>              (6 + 2) / 8]\r"
          ]
        },
        {
          "name": "stdout",
          "output_type": "stream",
          "text": [
            "Nilai Recall Model Dengan Naive Bayes : 80.27%\n"
          ]
        },
        {
          "name": "stderr",
          "output_type": "stream",
          "text": [
            "                                                                                \r"
          ]
        }
      ],
      "source": [
        "evaluator_bayes = MulticlassClassificationEvaluator(\n",
        "    labelCol='patient_type',\n",
        "    predictionCol='prediction',\n",
        "    metricName='weightedRecall'\n",
        ")\n",
        "recall_bayes = evaluator_bayes.evaluate(predictions)\n",
        "print(f\"Nilai Recall Model Dengan Naive Bayes : {recall_bayes:.2%}\")"
      ]
    },
    {
      "cell_type": "markdown",
      "metadata": {},
      "source": [
        "<h2><b>TUNING MODEL</b></h2>"
      ]
    },
    {
      "cell_type": "markdown",
      "metadata": {},
      "source": [
        "<h3><b>TUNING MODEL RANDOM FOREST</b></h3>"
      ]
    },
    {
      "cell_type": "markdown",
      "metadata": {},
      "source": [
        "<h4><b>SPLITTING DATASET</b></h4>"
      ]
    },
    {
      "cell_type": "code",
      "execution_count": 64,
      "metadata": {},
      "outputs": [],
      "source": [
        "train_data,test_data = df_prediction.randomSplit([0.7,0.3])"
      ]
    },
    {
      "cell_type": "markdown",
      "metadata": {},
      "source": [
        "<h4><b>CREATE MODEL RANDOM FOREST</b></h4>"
      ]
    },
    {
      "cell_type": "code",
      "execution_count": 110,
      "metadata": {},
      "outputs": [],
      "source": [
        "rf = RandomForestClassifier(labelCol='patient_type', featuresCol='independentFeature')"
      ]
    },
    {
      "cell_type": "markdown",
      "metadata": {},
      "source": [
        "<h4><b>CREATE PARAMATER GRID FOR HYPERPARAMATER TUNING</b></h4>"
      ]
    },
    {
      "cell_type": "code",
      "execution_count": 111,
      "metadata": {},
      "outputs": [],
      "source": [
        "param_grid = (ParamGridBuilder()\n",
        "    .addGrid(rf.numTrees, [10, 20, 30])\n",
        "    .addGrid(rf.maxDepth, [5, 10, 15])\n",
        "    .addGrid(rf.featureSubsetStrategy, ['auto', 'sqrt', 'log2'])\n",
        "    .addGrid(rf.minInstancesPerNode, [1, 5, 10])\n",
        "    .build())"
      ]
    },
    {
      "cell_type": "markdown",
      "metadata": {},
      "source": [
        "<h4><b>CREATE EVALUATOR MODEL</b></h4>"
      ]
    },
    {
      "cell_type": "code",
      "execution_count": 112,
      "metadata": {},
      "outputs": [],
      "source": [
        "evaluator = MulticlassClassificationEvaluator(labelCol='patient_type', predictionCol='prediction', metricName='accuracy')"
      ]
    },
    {
      "cell_type": "markdown",
      "metadata": {},
      "source": [
        "<h4><b>CREATE CROSS-VALIDATOR MODEL PREDICTION</b></h4>"
      ]
    },
    {
      "cell_type": "code",
      "execution_count": 113,
      "metadata": {},
      "outputs": [],
      "source": [
        "cv = CrossValidator(estimator=rf, estimatorParamMaps=param_grid, evaluator=evaluator, numFolds=3)"
      ]
    },
    {
      "cell_type": "markdown",
      "metadata": {},
      "source": [
        "<h4><b>TRAINING RANDOM FOREST TUNING</b></h4>"
      ]
    },
    {
      "cell_type": "code",
      "execution_count": 114,
      "metadata": {},
      "outputs": [
        {
          "name": "stderr",
          "output_type": "stream",
          "text": [
            "23/12/11 08:57:22 WARN DAGScheduler: Broadcasting large task binary with size 1107.6 KiB\n",
            "23/12/11 08:57:24 WARN DAGScheduler: Broadcasting large task binary with size 1415.1 KiB\n",
            "23/12/11 08:57:26 WARN DAGScheduler: Broadcasting large task binary with size 1685.1 KiB\n",
            "23/12/11 08:57:28 WARN DAGScheduler: Broadcasting large task binary with size 1897.8 KiB\n",
            "23/12/11 08:57:29 WARN DAGScheduler: Broadcasting large task binary with size 2.0 MiB\n",
            "23/12/11 08:57:44 WARN DAGScheduler: Broadcasting large task binary with size 1015.5 KiB\n",
            "23/12/11 08:57:45 WARN DAGScheduler: Broadcasting large task binary with size 1269.3 KiB\n",
            "23/12/11 08:57:46 WARN DAGScheduler: Broadcasting large task binary with size 1499.6 KiB\n",
            "23/12/11 08:57:48 WARN DAGScheduler: Broadcasting large task binary with size 1676.5 KiB\n",
            "23/12/11 08:57:49 WARN DAGScheduler: Broadcasting large task binary with size 1807.9 KiB\n",
            "23/12/11 08:58:03 WARN DAGScheduler: Broadcasting large task binary with size 1183.9 KiB\n",
            "23/12/11 08:58:04 WARN DAGScheduler: Broadcasting large task binary with size 1372.8 KiB\n",
            "23/12/11 08:58:05 WARN DAGScheduler: Broadcasting large task binary with size 1514.1 KiB\n",
            "23/12/11 08:58:07 WARN DAGScheduler: Broadcasting large task binary with size 1612.1 KiB\n",
            "23/12/11 08:58:19 WARN DAGScheduler: Broadcasting large task binary with size 1107.6 KiB\n",
            "23/12/11 08:58:20 WARN DAGScheduler: Broadcasting large task binary with size 1415.1 KiB\n",
            "23/12/11 08:58:21 WARN DAGScheduler: Broadcasting large task binary with size 1685.1 KiB\n",
            "23/12/11 08:58:23 WARN DAGScheduler: Broadcasting large task binary with size 1897.8 KiB\n",
            "23/12/11 08:58:24 WARN DAGScheduler: Broadcasting large task binary with size 2.0 MiB\n",
            "23/12/11 08:58:37 WARN DAGScheduler: Broadcasting large task binary with size 1015.5 KiB\n",
            "23/12/11 08:58:38 WARN DAGScheduler: Broadcasting large task binary with size 1269.3 KiB\n",
            "23/12/11 08:58:39 WARN DAGScheduler: Broadcasting large task binary with size 1499.6 KiB\n",
            "23/12/11 08:58:41 WARN DAGScheduler: Broadcasting large task binary with size 1676.5 KiB\n",
            "23/12/11 08:58:42 WARN DAGScheduler: Broadcasting large task binary with size 1807.9 KiB\n",
            "23/12/11 08:58:55 WARN DAGScheduler: Broadcasting large task binary with size 1183.9 KiB\n",
            "23/12/11 08:58:57 WARN DAGScheduler: Broadcasting large task binary with size 1372.8 KiB\n",
            "23/12/11 08:58:58 WARN DAGScheduler: Broadcasting large task binary with size 1514.1 KiB\n",
            "23/12/11 08:58:59 WARN DAGScheduler: Broadcasting large task binary with size 1612.1 KiB\n",
            "23/12/11 08:59:11 WARN DAGScheduler: Broadcasting large task binary with size 1107.6 KiB\n",
            "23/12/11 08:59:13 WARN DAGScheduler: Broadcasting large task binary with size 1415.1 KiB\n",
            "23/12/11 08:59:14 WARN DAGScheduler: Broadcasting large task binary with size 1685.1 KiB\n",
            "23/12/11 08:59:16 WARN DAGScheduler: Broadcasting large task binary with size 1897.8 KiB\n",
            "23/12/11 08:59:17 WARN DAGScheduler: Broadcasting large task binary with size 2.0 MiB\n",
            "23/12/11 08:59:29 WARN DAGScheduler: Broadcasting large task binary with size 1015.5 KiB\n",
            "23/12/11 08:59:31 WARN DAGScheduler: Broadcasting large task binary with size 1269.3 KiB\n",
            "23/12/11 08:59:33 WARN DAGScheduler: Broadcasting large task binary with size 1499.6 KiB\n",
            "23/12/11 08:59:34 WARN DAGScheduler: Broadcasting large task binary with size 1676.5 KiB\n",
            "23/12/11 08:59:35 WARN DAGScheduler: Broadcasting large task binary with size 1807.9 KiB\n",
            "23/12/11 08:59:49 WARN DAGScheduler: Broadcasting large task binary with size 1183.9 KiB\n",
            "23/12/11 08:59:51 WARN DAGScheduler: Broadcasting large task binary with size 1372.8 KiB\n",
            "23/12/11 08:59:52 WARN DAGScheduler: Broadcasting large task binary with size 1514.1 KiB\n",
            "23/12/11 08:59:53 WARN DAGScheduler: Broadcasting large task binary with size 1612.1 KiB\n",
            "23/12/11 09:01:30 WARN DAGScheduler: Broadcasting large task binary with size 1034.1 KiB\n",
            "23/12/11 09:01:33 WARN DAGScheduler: Broadcasting large task binary with size 1527.0 KiB\n",
            "23/12/11 09:01:52 WARN DAGScheduler: Broadcasting large task binary with size 1458.0 KiB\n",
            "23/12/11 09:02:11 WARN DAGScheduler: Broadcasting large task binary with size 1417.1 KiB\n",
            "23/12/11 09:02:30 WARN DAGScheduler: Broadcasting large task binary with size 1034.1 KiB\n",
            "23/12/11 09:02:33 WARN DAGScheduler: Broadcasting large task binary with size 1527.0 KiB\n",
            "23/12/11 09:02:52 WARN DAGScheduler: Broadcasting large task binary with size 1458.0 KiB\n",
            "23/12/11 09:03:11 WARN DAGScheduler: Broadcasting large task binary with size 1417.1 KiB\n",
            "23/12/11 09:03:28 WARN DAGScheduler: Broadcasting large task binary with size 1034.1 KiB\n",
            "23/12/11 09:03:31 WARN DAGScheduler: Broadcasting large task binary with size 1527.0 KiB\n",
            "23/12/11 09:03:50 WARN DAGScheduler: Broadcasting large task binary with size 1458.0 KiB\n",
            "23/12/11 09:04:10 WARN DAGScheduler: Broadcasting large task binary with size 1417.1 KiB\n",
            "23/12/11 09:04:27 WARN DAGScheduler: Broadcasting large task binary with size 1034.1 KiB\n",
            "23/12/11 09:04:29 WARN DAGScheduler: Broadcasting large task binary with size 1527.0 KiB\n",
            "23/12/11 09:04:31 WARN DAGScheduler: Broadcasting large task binary with size 2.1 MiB\n",
            "23/12/11 09:04:34 WARN DAGScheduler: Broadcasting large task binary with size 2.7 MiB\n",
            "23/12/11 09:04:37 WARN DAGScheduler: Broadcasting large task binary with size 3.2 MiB\n",
            "23/12/11 09:04:40 WARN DAGScheduler: Broadcasting large task binary with size 3.7 MiB\n",
            "23/12/11 09:04:43 WARN DAGScheduler: Broadcasting large task binary with size 4.0 MiB\n",
            "23/12/11 09:04:46 WARN DAGScheduler: Broadcasting large task binary with size 1136.8 KiB\n",
            "23/12/11 09:05:04 WARN DAGScheduler: Broadcasting large task binary with size 1458.0 KiB\n",
            "23/12/11 09:05:07 WARN DAGScheduler: Broadcasting large task binary with size 1977.0 KiB\n",
            "23/12/11 09:05:09 WARN DAGScheduler: Broadcasting large task binary with size 2.4 MiB\n",
            "23/12/11 09:05:12 WARN DAGScheduler: Broadcasting large task binary with size 2.9 MiB\n",
            "23/12/11 09:05:15 WARN DAGScheduler: Broadcasting large task binary with size 3.2 MiB\n",
            "23/12/11 09:05:18 WARN DAGScheduler: Broadcasting large task binary with size 3.5 MiB\n",
            "23/12/11 09:05:38 WARN DAGScheduler: Broadcasting large task binary with size 1417.1 KiB\n",
            "23/12/11 09:05:41 WARN DAGScheduler: Broadcasting large task binary with size 1905.8 KiB\n",
            "23/12/11 09:05:43 WARN DAGScheduler: Broadcasting large task binary with size 2.3 MiB\n",
            "23/12/11 09:05:46 WARN DAGScheduler: Broadcasting large task binary with size 2.7 MiB\n",
            "23/12/11 09:05:49 WARN DAGScheduler: Broadcasting large task binary with size 3.0 MiB\n",
            "23/12/11 09:05:51 WARN DAGScheduler: Broadcasting large task binary with size 3.2 MiB\n",
            "23/12/11 09:06:08 WARN DAGScheduler: Broadcasting large task binary with size 1034.1 KiB\n",
            "23/12/11 09:06:11 WARN DAGScheduler: Broadcasting large task binary with size 1527.0 KiB\n",
            "23/12/11 09:06:14 WARN DAGScheduler: Broadcasting large task binary with size 2.1 MiB\n",
            "23/12/11 09:06:16 WARN DAGScheduler: Broadcasting large task binary with size 2.7 MiB\n",
            "23/12/11 09:06:19 WARN DAGScheduler: Broadcasting large task binary with size 3.2 MiB\n",
            "23/12/11 09:06:23 WARN DAGScheduler: Broadcasting large task binary with size 3.7 MiB\n",
            "23/12/11 09:06:26 WARN DAGScheduler: Broadcasting large task binary with size 4.0 MiB\n",
            "23/12/11 09:06:28 WARN DAGScheduler: Broadcasting large task binary with size 1136.8 KiB\n",
            "23/12/11 09:06:46 WARN DAGScheduler: Broadcasting large task binary with size 1458.0 KiB\n",
            "23/12/11 09:06:49 WARN DAGScheduler: Broadcasting large task binary with size 1977.0 KiB\n",
            "23/12/11 09:06:51 WARN DAGScheduler: Broadcasting large task binary with size 2.4 MiB\n",
            "23/12/11 09:06:54 WARN DAGScheduler: Broadcasting large task binary with size 2.9 MiB\n",
            "23/12/11 09:06:57 WARN DAGScheduler: Broadcasting large task binary with size 3.2 MiB\n",
            "23/12/11 09:06:59 WARN DAGScheduler: Broadcasting large task binary with size 3.5 MiB\n",
            "23/12/11 09:07:19 WARN DAGScheduler: Broadcasting large task binary with size 1417.1 KiB\n",
            "23/12/11 09:07:22 WARN DAGScheduler: Broadcasting large task binary with size 1905.8 KiB\n",
            "23/12/11 09:07:24 WARN DAGScheduler: Broadcasting large task binary with size 2.3 MiB\n",
            "23/12/11 09:07:27 WARN DAGScheduler: Broadcasting large task binary with size 2.7 MiB\n",
            "23/12/11 09:07:30 WARN DAGScheduler: Broadcasting large task binary with size 3.0 MiB\n",
            "23/12/11 09:07:33 WARN DAGScheduler: Broadcasting large task binary with size 3.2 MiB\n",
            "23/12/11 09:07:51 WARN DAGScheduler: Broadcasting large task binary with size 1034.1 KiB\n",
            "23/12/11 09:07:53 WARN DAGScheduler: Broadcasting large task binary with size 1527.0 KiB\n",
            "23/12/11 09:07:56 WARN DAGScheduler: Broadcasting large task binary with size 2.1 MiB\n",
            "23/12/11 09:07:59 WARN DAGScheduler: Broadcasting large task binary with size 2.7 MiB\n",
            "23/12/11 09:08:01 WARN DAGScheduler: Broadcasting large task binary with size 3.2 MiB\n",
            "23/12/11 09:08:04 WARN DAGScheduler: Broadcasting large task binary with size 3.7 MiB\n",
            "23/12/11 09:08:07 WARN DAGScheduler: Broadcasting large task binary with size 4.0 MiB\n",
            "23/12/11 09:08:11 WARN DAGScheduler: Broadcasting large task binary with size 1136.8 KiB\n",
            "23/12/11 09:08:28 WARN DAGScheduler: Broadcasting large task binary with size 1458.0 KiB\n",
            "23/12/11 09:08:31 WARN DAGScheduler: Broadcasting large task binary with size 1977.0 KiB\n",
            "23/12/11 09:08:34 WARN DAGScheduler: Broadcasting large task binary with size 2.4 MiB\n",
            "23/12/11 09:08:36 WARN DAGScheduler: Broadcasting large task binary with size 2.9 MiB\n",
            "23/12/11 09:08:39 WARN DAGScheduler: Broadcasting large task binary with size 3.2 MiB\n",
            "23/12/11 09:08:42 WARN DAGScheduler: Broadcasting large task binary with size 3.5 MiB\n",
            "23/12/11 09:09:03 WARN DAGScheduler: Broadcasting large task binary with size 1417.1 KiB\n",
            "23/12/11 09:09:06 WARN DAGScheduler: Broadcasting large task binary with size 1905.8 KiB\n",
            "23/12/11 09:09:09 WARN DAGScheduler: Broadcasting large task binary with size 2.3 MiB\n",
            "23/12/11 09:09:12 WARN DAGScheduler: Broadcasting large task binary with size 2.7 MiB\n",
            "23/12/11 09:09:14 WARN DAGScheduler: Broadcasting large task binary with size 3.0 MiB\n",
            "23/12/11 09:09:18 WARN DAGScheduler: Broadcasting large task binary with size 3.2 MiB\n",
            "23/12/11 09:11:46 WARN DAGScheduler: Broadcasting large task binary with size 1520.2 KiB\n",
            "23/12/11 09:11:50 WARN DAGScheduler: Broadcasting large task binary with size 2.2 MiB\n",
            "23/12/11 09:12:18 WARN DAGScheduler: Broadcasting large task binary with size 1462.4 KiB\n",
            "23/12/11 09:12:23 WARN DAGScheduler: Broadcasting large task binary with size 2.1 MiB\n",
            "23/12/11 09:12:50 WARN DAGScheduler: Broadcasting large task binary with size 1412.3 KiB\n",
            "23/12/11 09:12:53 WARN DAGScheduler: Broadcasting large task binary with size 2042.6 KiB\n",
            "23/12/11 09:13:21 WARN DAGScheduler: Broadcasting large task binary with size 1520.2 KiB\n",
            "23/12/11 09:13:25 WARN DAGScheduler: Broadcasting large task binary with size 2.2 MiB\n",
            "23/12/11 09:13:55 WARN DAGScheduler: Broadcasting large task binary with size 1462.4 KiB\n",
            "23/12/11 09:13:59 WARN DAGScheduler: Broadcasting large task binary with size 2.1 MiB\n",
            "23/12/11 09:14:25 WARN DAGScheduler: Broadcasting large task binary with size 1412.3 KiB\n",
            "23/12/11 09:14:29 WARN DAGScheduler: Broadcasting large task binary with size 2042.6 KiB\n",
            "23/12/11 09:14:57 WARN DAGScheduler: Broadcasting large task binary with size 1520.2 KiB\n",
            "23/12/11 09:15:01 WARN DAGScheduler: Broadcasting large task binary with size 2.2 MiB\n",
            "23/12/11 09:15:27 WARN DAGScheduler: Broadcasting large task binary with size 1462.4 KiB\n",
            "23/12/11 09:15:31 WARN DAGScheduler: Broadcasting large task binary with size 2.1 MiB\n",
            "23/12/11 09:15:58 WARN DAGScheduler: Broadcasting large task binary with size 1412.3 KiB\n",
            "23/12/11 09:16:03 WARN DAGScheduler: Broadcasting large task binary with size 2042.6 KiB\n",
            "23/12/11 09:16:30 WARN DAGScheduler: Broadcasting large task binary with size 1520.2 KiB\n",
            "23/12/11 09:16:34 WARN DAGScheduler: Broadcasting large task binary with size 2.2 MiB\n",
            "23/12/11 09:16:40 WARN DAGScheduler: Broadcasting large task binary with size 3.1 MiB\n",
            "23/12/11 09:16:45 WARN DAGScheduler: Broadcasting large task binary with size 4.1 MiB\n",
            "23/12/11 09:16:50 WARN DAGScheduler: Broadcasting large task binary with size 4.9 MiB\n",
            "23/12/11 09:16:55 WARN DAGScheduler: Broadcasting large task binary with size 5.7 MiB\n",
            "23/12/11 09:17:01 WARN DAGScheduler: Broadcasting large task binary with size 6.2 MiB\n",
            "23/12/11 09:17:06 WARN DAGScheduler: Broadcasting large task binary with size 1691.6 KiB\n",
            "23/12/11 09:17:33 WARN DAGScheduler: Broadcasting large task binary with size 1462.4 KiB\n",
            "23/12/11 09:17:38 WARN DAGScheduler: Broadcasting large task binary with size 2.1 MiB\n",
            "23/12/11 09:17:43 WARN DAGScheduler: Broadcasting large task binary with size 2.9 MiB\n",
            "23/12/11 09:17:49 WARN DAGScheduler: Broadcasting large task binary with size 3.7 MiB\n",
            "23/12/11 09:17:54 WARN DAGScheduler: Broadcasting large task binary with size 4.4 MiB\n",
            "23/12/11 09:18:00 WARN DAGScheduler: Broadcasting large task binary with size 5.0 MiB\n",
            "23/12/11 09:18:05 WARN DAGScheduler: Broadcasting large task binary with size 5.4 MiB\n",
            "23/12/11 09:18:09 WARN DAGScheduler: Broadcasting large task binary with size 1237.2 KiB\n",
            "23/12/11 09:18:32 WARN DAGScheduler: Broadcasting large task binary with size 1412.3 KiB\n",
            "23/12/11 09:18:36 WARN DAGScheduler: Broadcasting large task binary with size 2042.6 KiB\n",
            "23/12/11 09:18:40 WARN DAGScheduler: Broadcasting large task binary with size 2.7 MiB\n",
            "23/12/11 09:18:45 WARN DAGScheduler: Broadcasting large task binary with size 3.4 MiB\n",
            "23/12/11 09:18:49 WARN DAGScheduler: Broadcasting large task binary with size 4.0 MiB\n",
            "23/12/11 09:18:54 WARN DAGScheduler: Broadcasting large task binary with size 4.5 MiB\n",
            "23/12/11 09:18:58 WARN DAGScheduler: Broadcasting large task binary with size 4.8 MiB\n",
            "23/12/11 09:19:28 WARN DAGScheduler: Broadcasting large task binary with size 1520.2 KiB\n",
            "23/12/11 09:19:32 WARN DAGScheduler: Broadcasting large task binary with size 2.2 MiB\n",
            "23/12/11 09:19:37 WARN DAGScheduler: Broadcasting large task binary with size 3.1 MiB\n",
            "23/12/11 09:19:42 WARN DAGScheduler: Broadcasting large task binary with size 4.1 MiB\n",
            "23/12/11 09:19:47 WARN DAGScheduler: Broadcasting large task binary with size 4.9 MiB\n",
            "23/12/11 09:19:52 WARN DAGScheduler: Broadcasting large task binary with size 5.7 MiB\n",
            "23/12/11 09:19:58 WARN DAGScheduler: Broadcasting large task binary with size 6.2 MiB\n",
            "23/12/11 09:20:03 WARN DAGScheduler: Broadcasting large task binary with size 1691.6 KiB\n",
            "23/12/11 09:20:31 WARN DAGScheduler: Broadcasting large task binary with size 1462.4 KiB\n",
            "23/12/11 09:20:36 WARN DAGScheduler: Broadcasting large task binary with size 2.1 MiB\n",
            "23/12/11 09:20:40 WARN DAGScheduler: Broadcasting large task binary with size 2.9 MiB\n",
            "23/12/11 09:20:45 WARN DAGScheduler: Broadcasting large task binary with size 3.7 MiB\n",
            "23/12/11 09:20:50 WARN DAGScheduler: Broadcasting large task binary with size 4.4 MiB\n",
            "23/12/11 09:20:55 WARN DAGScheduler: Broadcasting large task binary with size 5.0 MiB\n",
            "23/12/11 09:21:00 WARN DAGScheduler: Broadcasting large task binary with size 5.4 MiB\n",
            "23/12/11 09:21:05 WARN DAGScheduler: Broadcasting large task binary with size 1237.2 KiB\n",
            "23/12/11 09:21:27 WARN DAGScheduler: Broadcasting large task binary with size 1412.3 KiB\n",
            "23/12/11 09:21:31 WARN DAGScheduler: Broadcasting large task binary with size 2042.6 KiB\n",
            "23/12/11 09:21:35 WARN DAGScheduler: Broadcasting large task binary with size 2.7 MiB\n",
            "23/12/11 09:21:40 WARN DAGScheduler: Broadcasting large task binary with size 3.4 MiB\n",
            "23/12/11 09:21:45 WARN DAGScheduler: Broadcasting large task binary with size 4.0 MiB\n",
            "23/12/11 09:21:49 WARN DAGScheduler: Broadcasting large task binary with size 4.5 MiB\n",
            "23/12/11 09:21:54 WARN DAGScheduler: Broadcasting large task binary with size 4.8 MiB\n",
            "23/12/11 09:22:24 WARN DAGScheduler: Broadcasting large task binary with size 1520.2 KiB\n",
            "23/12/11 09:22:28 WARN DAGScheduler: Broadcasting large task binary with size 2.2 MiB\n",
            "23/12/11 09:22:32 WARN DAGScheduler: Broadcasting large task binary with size 3.1 MiB\n",
            "23/12/11 09:22:38 WARN DAGScheduler: Broadcasting large task binary with size 4.1 MiB\n",
            "23/12/11 09:22:43 WARN DAGScheduler: Broadcasting large task binary with size 4.9 MiB\n",
            "23/12/11 09:22:49 WARN DAGScheduler: Broadcasting large task binary with size 5.7 MiB\n",
            "23/12/11 09:22:55 WARN DAGScheduler: Broadcasting large task binary with size 6.2 MiB\n",
            "23/12/11 09:22:59 WARN DAGScheduler: Broadcasting large task binary with size 1691.6 KiB\n",
            "23/12/11 09:23:23 WARN DAGScheduler: Broadcasting large task binary with size 1462.4 KiB\n",
            "23/12/11 09:23:27 WARN DAGScheduler: Broadcasting large task binary with size 2.1 MiB\n",
            "23/12/11 09:23:31 WARN DAGScheduler: Broadcasting large task binary with size 2.9 MiB\n",
            "23/12/11 09:23:35 WARN DAGScheduler: Broadcasting large task binary with size 3.7 MiB\n",
            "23/12/11 09:23:40 WARN DAGScheduler: Broadcasting large task binary with size 4.4 MiB\n",
            "23/12/11 09:23:45 WARN DAGScheduler: Broadcasting large task binary with size 5.0 MiB\n",
            "23/12/11 09:23:51 WARN DAGScheduler: Broadcasting large task binary with size 5.4 MiB\n",
            "23/12/11 09:23:56 WARN DAGScheduler: Broadcasting large task binary with size 1237.2 KiB\n",
            "23/12/11 09:24:20 WARN DAGScheduler: Broadcasting large task binary with size 1412.3 KiB\n",
            "23/12/11 09:24:24 WARN DAGScheduler: Broadcasting large task binary with size 2042.6 KiB\n",
            "23/12/11 09:24:28 WARN DAGScheduler: Broadcasting large task binary with size 2.7 MiB\n",
            "23/12/11 09:24:33 WARN DAGScheduler: Broadcasting large task binary with size 3.4 MiB\n",
            "23/12/11 09:24:37 WARN DAGScheduler: Broadcasting large task binary with size 4.0 MiB\n",
            "23/12/11 09:24:42 WARN DAGScheduler: Broadcasting large task binary with size 4.5 MiB\n",
            "23/12/11 09:24:47 WARN DAGScheduler: Broadcasting large task binary with size 4.8 MiB\n",
            "23/12/11 09:27:51 WARN DAGScheduler: Broadcasting large task binary with size 1083.5 KiB\n",
            "23/12/11 09:27:52 WARN DAGScheduler: Broadcasting large task binary with size 1380.4 KiB\n",
            "23/12/11 09:27:54 WARN DAGScheduler: Broadcasting large task binary with size 1645.6 KiB\n",
            "23/12/11 09:27:55 WARN DAGScheduler: Broadcasting large task binary with size 1855.5 KiB\n",
            "23/12/11 09:27:56 WARN DAGScheduler: Broadcasting large task binary with size 2010.3 KiB\n",
            "23/12/11 09:28:09 WARN DAGScheduler: Broadcasting large task binary with size 1024.0 KiB\n",
            "23/12/11 09:28:10 WARN DAGScheduler: Broadcasting large task binary with size 1276.3 KiB\n",
            "23/12/11 09:28:12 WARN DAGScheduler: Broadcasting large task binary with size 1498.7 KiB\n",
            "23/12/11 09:28:13 WARN DAGScheduler: Broadcasting large task binary with size 1675.9 KiB\n",
            "23/12/11 09:28:15 WARN DAGScheduler: Broadcasting large task binary with size 1812.3 KiB\n",
            "23/12/11 09:28:29 WARN DAGScheduler: Broadcasting large task binary with size 1167.5 KiB\n",
            "23/12/11 09:28:31 WARN DAGScheduler: Broadcasting large task binary with size 1347.8 KiB\n",
            "23/12/11 09:28:32 WARN DAGScheduler: Broadcasting large task binary with size 1488.0 KiB\n",
            "23/12/11 09:28:33 WARN DAGScheduler: Broadcasting large task binary with size 1588.9 KiB\n",
            "23/12/11 09:28:46 WARN DAGScheduler: Broadcasting large task binary with size 1083.5 KiB\n",
            "23/12/11 09:28:48 WARN DAGScheduler: Broadcasting large task binary with size 1380.4 KiB\n",
            "23/12/11 09:28:49 WARN DAGScheduler: Broadcasting large task binary with size 1645.6 KiB\n",
            "23/12/11 09:28:51 WARN DAGScheduler: Broadcasting large task binary with size 1855.5 KiB\n",
            "23/12/11 09:28:52 WARN DAGScheduler: Broadcasting large task binary with size 2010.3 KiB\n",
            "23/12/11 09:29:05 WARN DAGScheduler: Broadcasting large task binary with size 1024.0 KiB\n",
            "23/12/11 09:29:06 WARN DAGScheduler: Broadcasting large task binary with size 1276.3 KiB\n",
            "23/12/11 09:29:07 WARN DAGScheduler: Broadcasting large task binary with size 1498.7 KiB\n",
            "23/12/11 09:29:09 WARN DAGScheduler: Broadcasting large task binary with size 1675.9 KiB\n",
            "23/12/11 09:29:10 WARN DAGScheduler: Broadcasting large task binary with size 1812.3 KiB\n",
            "23/12/11 09:29:24 WARN DAGScheduler: Broadcasting large task binary with size 1167.5 KiB\n",
            "23/12/11 09:29:25 WARN DAGScheduler: Broadcasting large task binary with size 1347.8 KiB\n",
            "23/12/11 09:29:27 WARN DAGScheduler: Broadcasting large task binary with size 1488.0 KiB\n",
            "23/12/11 09:29:28 WARN DAGScheduler: Broadcasting large task binary with size 1588.9 KiB\n",
            "23/12/11 09:29:43 WARN DAGScheduler: Broadcasting large task binary with size 1083.5 KiB\n",
            "23/12/11 09:29:45 WARN DAGScheduler: Broadcasting large task binary with size 1380.4 KiB\n",
            "23/12/11 09:29:47 WARN DAGScheduler: Broadcasting large task binary with size 1645.6 KiB\n",
            "23/12/11 09:29:49 WARN DAGScheduler: Broadcasting large task binary with size 1855.5 KiB\n",
            "23/12/11 09:29:51 WARN DAGScheduler: Broadcasting large task binary with size 2010.3 KiB\n",
            "23/12/11 09:30:04 WARN DAGScheduler: Broadcasting large task binary with size 1024.0 KiB\n",
            "23/12/11 09:30:05 WARN DAGScheduler: Broadcasting large task binary with size 1276.3 KiB\n",
            "23/12/11 09:30:07 WARN DAGScheduler: Broadcasting large task binary with size 1498.7 KiB\n",
            "23/12/11 09:30:08 WARN DAGScheduler: Broadcasting large task binary with size 1675.9 KiB\n",
            "23/12/11 09:30:10 WARN DAGScheduler: Broadcasting large task binary with size 1812.3 KiB\n",
            "23/12/11 09:30:23 WARN DAGScheduler: Broadcasting large task binary with size 1167.5 KiB\n",
            "23/12/11 09:30:25 WARN DAGScheduler: Broadcasting large task binary with size 1347.8 KiB\n",
            "23/12/11 09:30:26 WARN DAGScheduler: Broadcasting large task binary with size 1488.0 KiB\n",
            "23/12/11 09:30:27 WARN DAGScheduler: Broadcasting large task binary with size 1588.9 KiB\n",
            "23/12/11 09:32:03 WARN DAGScheduler: Broadcasting large task binary with size 1007.9 KiB\n",
            "23/12/11 09:32:05 WARN DAGScheduler: Broadcasting large task binary with size 1469.7 KiB\n",
            "23/12/11 09:32:23 WARN DAGScheduler: Broadcasting large task binary with size 1007.4 KiB\n",
            "23/12/11 09:32:26 WARN DAGScheduler: Broadcasting large task binary with size 1451.7 KiB\n",
            "23/12/11 09:32:47 WARN DAGScheduler: Broadcasting large task binary with size 1374.9 KiB\n",
            "23/12/11 09:33:04 WARN DAGScheduler: Broadcasting large task binary with size 1007.9 KiB\n",
            "23/12/11 09:33:07 WARN DAGScheduler: Broadcasting large task binary with size 1469.7 KiB\n",
            "23/12/11 09:33:27 WARN DAGScheduler: Broadcasting large task binary with size 1007.4 KiB\n",
            "23/12/11 09:33:29 WARN DAGScheduler: Broadcasting large task binary with size 1451.7 KiB\n",
            "23/12/11 09:33:49 WARN DAGScheduler: Broadcasting large task binary with size 1374.9 KiB\n",
            "23/12/11 09:34:08 WARN DAGScheduler: Broadcasting large task binary with size 1007.9 KiB\n",
            "23/12/11 09:34:11 WARN DAGScheduler: Broadcasting large task binary with size 1469.7 KiB\n",
            "23/12/11 09:34:28 WARN DAGScheduler: Broadcasting large task binary with size 1007.4 KiB\n",
            "23/12/11 09:34:30 WARN DAGScheduler: Broadcasting large task binary with size 1451.7 KiB\n",
            "23/12/11 09:34:50 WARN DAGScheduler: Broadcasting large task binary with size 1374.9 KiB\n",
            "23/12/11 09:35:09 WARN DAGScheduler: Broadcasting large task binary with size 1007.9 KiB\n",
            "23/12/11 09:35:11 WARN DAGScheduler: Broadcasting large task binary with size 1469.7 KiB\n",
            "23/12/11 09:35:14 WARN DAGScheduler: Broadcasting large task binary with size 2028.4 KiB\n",
            "23/12/11 09:35:17 WARN DAGScheduler: Broadcasting large task binary with size 2.6 MiB\n",
            "23/12/11 09:35:19 WARN DAGScheduler: Broadcasting large task binary with size 3.1 MiB\n",
            "23/12/11 09:35:23 WARN DAGScheduler: Broadcasting large task binary with size 3.6 MiB\n",
            "23/12/11 09:35:26 WARN DAGScheduler: Broadcasting large task binary with size 3.9 MiB\n",
            "23/12/11 09:35:29 WARN DAGScheduler: Broadcasting large task binary with size 1131.4 KiB\n",
            "23/12/11 09:35:46 WARN DAGScheduler: Broadcasting large task binary with size 1007.4 KiB\n",
            "23/12/11 09:35:48 WARN DAGScheduler: Broadcasting large task binary with size 1451.7 KiB\n",
            "23/12/11 09:35:51 WARN DAGScheduler: Broadcasting large task binary with size 1950.5 KiB\n",
            "23/12/11 09:35:54 WARN DAGScheduler: Broadcasting large task binary with size 2.4 MiB\n",
            "23/12/11 09:35:57 WARN DAGScheduler: Broadcasting large task binary with size 2.8 MiB\n",
            "23/12/11 09:36:01 WARN DAGScheduler: Broadcasting large task binary with size 3.2 MiB\n",
            "23/12/11 09:36:03 WARN DAGScheduler: Broadcasting large task binary with size 3.5 MiB\n",
            "23/12/11 09:36:25 WARN DAGScheduler: Broadcasting large task binary with size 1374.9 KiB\n",
            "23/12/11 09:36:29 WARN DAGScheduler: Broadcasting large task binary with size 1822.2 KiB\n",
            "23/12/11 09:36:33 WARN DAGScheduler: Broadcasting large task binary with size 2.2 MiB\n",
            "23/12/11 09:36:36 WARN DAGScheduler: Broadcasting large task binary with size 2.6 MiB\n",
            "23/12/11 09:36:39 WARN DAGScheduler: Broadcasting large task binary with size 2.9 MiB\n",
            "23/12/11 09:36:42 WARN DAGScheduler: Broadcasting large task binary with size 3.1 MiB\n",
            "23/12/11 09:37:02 WARN DAGScheduler: Broadcasting large task binary with size 1007.9 KiB\n",
            "23/12/11 09:37:04 WARN DAGScheduler: Broadcasting large task binary with size 1469.7 KiB\n",
            "23/12/11 09:37:07 WARN DAGScheduler: Broadcasting large task binary with size 2028.4 KiB\n",
            "23/12/11 09:37:10 WARN DAGScheduler: Broadcasting large task binary with size 2.6 MiB\n",
            "23/12/11 09:37:13 WARN DAGScheduler: Broadcasting large task binary with size 3.1 MiB\n",
            "23/12/11 09:37:16 WARN DAGScheduler: Broadcasting large task binary with size 3.6 MiB\n",
            "23/12/11 09:37:20 WARN DAGScheduler: Broadcasting large task binary with size 3.9 MiB\n",
            "23/12/11 09:37:23 WARN DAGScheduler: Broadcasting large task binary with size 1131.4 KiB\n",
            "23/12/11 09:37:39 WARN DAGScheduler: Broadcasting large task binary with size 1007.4 KiB\n",
            "23/12/11 09:37:42 WARN DAGScheduler: Broadcasting large task binary with size 1451.7 KiB\n",
            "23/12/11 09:37:44 WARN DAGScheduler: Broadcasting large task binary with size 1950.5 KiB\n",
            "23/12/11 09:37:47 WARN DAGScheduler: Broadcasting large task binary with size 2.4 MiB\n",
            "23/12/11 09:37:50 WARN DAGScheduler: Broadcasting large task binary with size 2.8 MiB\n",
            "23/12/11 09:37:53 WARN DAGScheduler: Broadcasting large task binary with size 3.2 MiB\n",
            "23/12/11 09:37:57 WARN DAGScheduler: Broadcasting large task binary with size 3.5 MiB\n",
            "23/12/11 09:38:18 WARN DAGScheduler: Broadcasting large task binary with size 1374.9 KiB\n",
            "23/12/11 09:38:21 WARN DAGScheduler: Broadcasting large task binary with size 1822.2 KiB\n",
            "23/12/11 09:38:24 WARN DAGScheduler: Broadcasting large task binary with size 2.2 MiB\n",
            "23/12/11 09:38:26 WARN DAGScheduler: Broadcasting large task binary with size 2.6 MiB\n",
            "23/12/11 09:38:29 WARN DAGScheduler: Broadcasting large task binary with size 2.9 MiB\n",
            "23/12/11 09:38:32 WARN DAGScheduler: Broadcasting large task binary with size 3.1 MiB\n",
            "23/12/11 09:38:50 WARN DAGScheduler: Broadcasting large task binary with size 1007.9 KiB\n",
            "23/12/11 09:38:52 WARN DAGScheduler: Broadcasting large task binary with size 1469.7 KiB\n",
            "23/12/11 09:38:55 WARN DAGScheduler: Broadcasting large task binary with size 2028.4 KiB\n",
            "23/12/11 09:38:58 WARN DAGScheduler: Broadcasting large task binary with size 2.6 MiB\n",
            "23/12/11 09:39:01 WARN DAGScheduler: Broadcasting large task binary with size 3.1 MiB\n",
            "23/12/11 09:39:04 WARN DAGScheduler: Broadcasting large task binary with size 3.6 MiB\n",
            "23/12/11 09:39:07 WARN DAGScheduler: Broadcasting large task binary with size 3.9 MiB\n",
            "23/12/11 09:39:10 WARN DAGScheduler: Broadcasting large task binary with size 1131.4 KiB\n",
            "23/12/11 09:39:25 WARN DAGScheduler: Broadcasting large task binary with size 1007.4 KiB\n",
            "23/12/11 09:39:27 WARN DAGScheduler: Broadcasting large task binary with size 1451.7 KiB\n",
            "23/12/11 09:39:29 WARN DAGScheduler: Broadcasting large task binary with size 1950.5 KiB\n",
            "23/12/11 09:39:32 WARN DAGScheduler: Broadcasting large task binary with size 2.4 MiB\n",
            "23/12/11 09:39:35 WARN DAGScheduler: Broadcasting large task binary with size 2.8 MiB\n",
            "23/12/11 09:39:38 WARN DAGScheduler: Broadcasting large task binary with size 3.2 MiB\n",
            "23/12/11 09:39:41 WARN DAGScheduler: Broadcasting large task binary with size 3.5 MiB\n",
            "23/12/11 09:40:02 WARN DAGScheduler: Broadcasting large task binary with size 1374.9 KiB\n",
            "23/12/11 09:40:05 WARN DAGScheduler: Broadcasting large task binary with size 1822.2 KiB\n",
            "23/12/11 09:40:08 WARN DAGScheduler: Broadcasting large task binary with size 2.2 MiB\n",
            "23/12/11 09:40:11 WARN DAGScheduler: Broadcasting large task binary with size 2.6 MiB\n",
            "23/12/11 09:40:14 WARN DAGScheduler: Broadcasting large task binary with size 2.9 MiB\n",
            "23/12/11 09:40:16 WARN DAGScheduler: Broadcasting large task binary with size 3.1 MiB\n",
            "23/12/11 09:42:52 WARN DAGScheduler: Broadcasting large task binary with size 1514.2 KiB\n",
            "23/12/11 09:42:56 WARN DAGScheduler: Broadcasting large task binary with size 2.2 MiB\n",
            "23/12/11 09:43:23 WARN DAGScheduler: Broadcasting large task binary with size 1468.1 KiB\n",
            "23/12/11 09:43:27 WARN DAGScheduler: Broadcasting large task binary with size 2.1 MiB\n",
            "23/12/11 09:43:54 WARN DAGScheduler: Broadcasting large task binary with size 1411.9 KiB\n",
            "23/12/11 09:43:58 WARN DAGScheduler: Broadcasting large task binary with size 2.0 MiB\n",
            "23/12/11 09:44:25 WARN DAGScheduler: Broadcasting large task binary with size 1514.2 KiB\n",
            "23/12/11 09:44:28 WARN DAGScheduler: Broadcasting large task binary with size 2.2 MiB\n",
            "23/12/11 09:44:55 WARN DAGScheduler: Broadcasting large task binary with size 1468.1 KiB\n",
            "23/12/11 09:44:58 WARN DAGScheduler: Broadcasting large task binary with size 2.1 MiB\n",
            "23/12/11 09:45:26 WARN DAGScheduler: Broadcasting large task binary with size 1411.9 KiB\n",
            "23/12/11 09:45:30 WARN DAGScheduler: Broadcasting large task binary with size 2.0 MiB\n",
            "23/12/11 09:45:57 WARN DAGScheduler: Broadcasting large task binary with size 1514.2 KiB\n",
            "23/12/11 09:46:02 WARN DAGScheduler: Broadcasting large task binary with size 2.2 MiB\n",
            "23/12/11 09:46:29 WARN DAGScheduler: Broadcasting large task binary with size 1468.1 KiB\n",
            "23/12/11 09:46:33 WARN DAGScheduler: Broadcasting large task binary with size 2.1 MiB\n",
            "23/12/11 09:46:59 WARN DAGScheduler: Broadcasting large task binary with size 1411.9 KiB\n",
            "23/12/11 09:47:03 WARN DAGScheduler: Broadcasting large task binary with size 2.0 MiB\n",
            "23/12/11 09:47:32 WARN DAGScheduler: Broadcasting large task binary with size 1514.2 KiB\n",
            "23/12/11 09:47:36 WARN DAGScheduler: Broadcasting large task binary with size 2.2 MiB\n",
            "23/12/11 09:47:41 WARN DAGScheduler: Broadcasting large task binary with size 3.1 MiB\n",
            "23/12/11 09:47:46 WARN DAGScheduler: Broadcasting large task binary with size 4.0 MiB\n",
            "23/12/11 09:47:50 WARN DAGScheduler: Broadcasting large task binary with size 4.9 MiB\n",
            "23/12/11 09:47:55 WARN DAGScheduler: Broadcasting large task binary with size 5.6 MiB\n",
            "23/12/11 09:48:01 WARN DAGScheduler: Broadcasting large task binary with size 6.1 MiB\n",
            "23/12/11 09:48:06 WARN DAGScheduler: Broadcasting large task binary with size 1695.2 KiB\n",
            "23/12/11 09:48:30 WARN DAGScheduler: Broadcasting large task binary with size 1468.1 KiB\n",
            "23/12/11 09:48:34 WARN DAGScheduler: Broadcasting large task binary with size 2.1 MiB\n",
            "23/12/11 09:48:39 WARN DAGScheduler: Broadcasting large task binary with size 2.9 MiB\n",
            "23/12/11 09:48:43 WARN DAGScheduler: Broadcasting large task binary with size 3.7 MiB\n",
            "23/12/11 09:48:48 WARN DAGScheduler: Broadcasting large task binary with size 4.4 MiB\n",
            "23/12/11 09:48:53 WARN DAGScheduler: Broadcasting large task binary with size 5.0 MiB\n",
            "23/12/11 09:48:58 WARN DAGScheduler: Broadcasting large task binary with size 5.4 MiB\n",
            "23/12/11 09:49:03 WARN DAGScheduler: Broadcasting large task binary with size 1221.1 KiB\n",
            "23/12/11 09:49:30 WARN DAGScheduler: Broadcasting large task binary with size 1411.9 KiB\n",
            "23/12/11 09:49:35 WARN DAGScheduler: Broadcasting large task binary with size 2.0 MiB\n",
            "23/12/11 09:49:40 WARN DAGScheduler: Broadcasting large task binary with size 2.7 MiB\n",
            "23/12/11 09:49:45 WARN DAGScheduler: Broadcasting large task binary with size 3.4 MiB\n",
            "23/12/11 09:49:50 WARN DAGScheduler: Broadcasting large task binary with size 3.9 MiB\n",
            "23/12/11 09:49:55 WARN DAGScheduler: Broadcasting large task binary with size 4.4 MiB\n",
            "23/12/11 09:49:59 WARN DAGScheduler: Broadcasting large task binary with size 4.7 MiB\n",
            "23/12/11 09:50:29 WARN DAGScheduler: Broadcasting large task binary with size 1514.2 KiB\n",
            "23/12/11 09:50:34 WARN DAGScheduler: Broadcasting large task binary with size 2.2 MiB\n",
            "23/12/11 09:50:38 WARN DAGScheduler: Broadcasting large task binary with size 3.1 MiB\n",
            "23/12/11 09:50:43 WARN DAGScheduler: Broadcasting large task binary with size 4.0 MiB\n",
            "23/12/11 09:50:49 WARN DAGScheduler: Broadcasting large task binary with size 4.9 MiB\n",
            "23/12/11 09:50:54 WARN DAGScheduler: Broadcasting large task binary with size 5.6 MiB\n",
            "23/12/11 09:50:59 WARN DAGScheduler: Broadcasting large task binary with size 6.1 MiB\n",
            "23/12/11 09:51:04 WARN DAGScheduler: Broadcasting large task binary with size 1695.2 KiB\n",
            "23/12/11 09:51:28 WARN DAGScheduler: Broadcasting large task binary with size 1468.1 KiB\n",
            "23/12/11 09:51:32 WARN DAGScheduler: Broadcasting large task binary with size 2.1 MiB\n",
            "23/12/11 09:51:36 WARN DAGScheduler: Broadcasting large task binary with size 2.9 MiB\n",
            "23/12/11 09:51:41 WARN DAGScheduler: Broadcasting large task binary with size 3.7 MiB\n",
            "23/12/11 09:51:46 WARN DAGScheduler: Broadcasting large task binary with size 4.4 MiB\n",
            "23/12/11 09:51:51 WARN DAGScheduler: Broadcasting large task binary with size 5.0 MiB\n",
            "23/12/11 09:51:56 WARN DAGScheduler: Broadcasting large task binary with size 5.4 MiB\n",
            "23/12/11 09:52:00 WARN DAGScheduler: Broadcasting large task binary with size 1221.1 KiB\n",
            "23/12/11 09:52:24 WARN DAGScheduler: Broadcasting large task binary with size 1411.9 KiB\n",
            "23/12/11 09:52:27 WARN DAGScheduler: Broadcasting large task binary with size 2.0 MiB\n",
            "23/12/11 09:52:32 WARN DAGScheduler: Broadcasting large task binary with size 2.7 MiB\n",
            "23/12/11 09:52:36 WARN DAGScheduler: Broadcasting large task binary with size 3.4 MiB\n",
            "23/12/11 09:52:41 WARN DAGScheduler: Broadcasting large task binary with size 3.9 MiB\n",
            "23/12/11 09:52:45 WARN DAGScheduler: Broadcasting large task binary with size 4.4 MiB\n",
            "23/12/11 09:52:49 WARN DAGScheduler: Broadcasting large task binary with size 4.7 MiB\n",
            "23/12/11 09:53:17 WARN DAGScheduler: Broadcasting large task binary with size 1514.2 KiB\n",
            "23/12/11 09:53:21 WARN DAGScheduler: Broadcasting large task binary with size 2.2 MiB\n",
            "23/12/11 09:53:26 WARN DAGScheduler: Broadcasting large task binary with size 3.1 MiB\n",
            "23/12/11 09:53:30 WARN DAGScheduler: Broadcasting large task binary with size 4.0 MiB\n",
            "23/12/11 09:53:36 WARN DAGScheduler: Broadcasting large task binary with size 4.9 MiB\n",
            "23/12/11 09:53:41 WARN DAGScheduler: Broadcasting large task binary with size 5.6 MiB\n",
            "23/12/11 09:53:47 WARN DAGScheduler: Broadcasting large task binary with size 6.1 MiB\n",
            "23/12/11 09:53:51 WARN DAGScheduler: Broadcasting large task binary with size 1695.2 KiB\n",
            "23/12/11 09:54:15 WARN DAGScheduler: Broadcasting large task binary with size 1468.1 KiB\n",
            "23/12/11 09:54:19 WARN DAGScheduler: Broadcasting large task binary with size 2.1 MiB\n",
            "23/12/11 09:54:23 WARN DAGScheduler: Broadcasting large task binary with size 2.9 MiB\n",
            "23/12/11 09:54:28 WARN DAGScheduler: Broadcasting large task binary with size 3.7 MiB\n",
            "23/12/11 09:54:33 WARN DAGScheduler: Broadcasting large task binary with size 4.4 MiB\n",
            "23/12/11 09:54:38 WARN DAGScheduler: Broadcasting large task binary with size 5.0 MiB\n",
            "23/12/11 09:54:43 WARN DAGScheduler: Broadcasting large task binary with size 5.4 MiB\n",
            "23/12/11 09:54:47 WARN DAGScheduler: Broadcasting large task binary with size 1221.1 KiB\n",
            "23/12/11 09:55:11 WARN DAGScheduler: Broadcasting large task binary with size 1411.9 KiB\n",
            "23/12/11 09:55:15 WARN DAGScheduler: Broadcasting large task binary with size 2.0 MiB\n",
            "23/12/11 09:55:19 WARN DAGScheduler: Broadcasting large task binary with size 2.7 MiB\n",
            "23/12/11 09:55:23 WARN DAGScheduler: Broadcasting large task binary with size 3.4 MiB\n",
            "23/12/11 09:55:28 WARN DAGScheduler: Broadcasting large task binary with size 3.9 MiB\n",
            "23/12/11 09:55:33 WARN DAGScheduler: Broadcasting large task binary with size 4.4 MiB\n",
            "23/12/11 09:55:38 WARN DAGScheduler: Broadcasting large task binary with size 4.7 MiB\n",
            "23/12/11 09:58:39 WARN DAGScheduler: Broadcasting large task binary with size 1103.0 KiB\n",
            "23/12/11 09:58:40 WARN DAGScheduler: Broadcasting large task binary with size 1419.2 KiB\n",
            "23/12/11 09:58:42 WARN DAGScheduler: Broadcasting large task binary with size 1706.1 KiB\n",
            "23/12/11 09:58:43 WARN DAGScheduler: Broadcasting large task binary with size 1935.1 KiB\n",
            "23/12/11 09:58:45 WARN DAGScheduler: Broadcasting large task binary with size 2.1 MiB\n",
            "23/12/11 09:58:57 WARN DAGScheduler: Broadcasting large task binary with size 1047.8 KiB\n",
            "23/12/11 09:58:59 WARN DAGScheduler: Broadcasting large task binary with size 1303.1 KiB\n",
            "23/12/11 09:59:00 WARN DAGScheduler: Broadcasting large task binary with size 1514.1 KiB\n",
            "23/12/11 09:59:01 WARN DAGScheduler: Broadcasting large task binary with size 1680.6 KiB\n",
            "23/12/11 09:59:03 WARN DAGScheduler: Broadcasting large task binary with size 1800.6 KiB\n",
            "23/12/11 09:59:16 WARN DAGScheduler: Broadcasting large task binary with size 1180.2 KiB\n",
            "23/12/11 09:59:17 WARN DAGScheduler: Broadcasting large task binary with size 1367.7 KiB\n",
            "23/12/11 09:59:19 WARN DAGScheduler: Broadcasting large task binary with size 1491.0 KiB\n",
            "23/12/11 09:59:20 WARN DAGScheduler: Broadcasting large task binary with size 1572.7 KiB\n",
            "23/12/11 09:59:33 WARN DAGScheduler: Broadcasting large task binary with size 1103.0 KiB\n",
            "23/12/11 09:59:35 WARN DAGScheduler: Broadcasting large task binary with size 1419.2 KiB\n",
            "23/12/11 09:59:37 WARN DAGScheduler: Broadcasting large task binary with size 1706.1 KiB\n",
            "23/12/11 09:59:39 WARN DAGScheduler: Broadcasting large task binary with size 1935.1 KiB\n",
            "23/12/11 09:59:40 WARN DAGScheduler: Broadcasting large task binary with size 2.1 MiB\n",
            "23/12/11 09:59:54 WARN DAGScheduler: Broadcasting large task binary with size 1047.8 KiB\n",
            "23/12/11 09:59:55 WARN DAGScheduler: Broadcasting large task binary with size 1303.1 KiB\n",
            "23/12/11 09:59:56 WARN DAGScheduler: Broadcasting large task binary with size 1514.1 KiB\n",
            "23/12/11 09:59:58 WARN DAGScheduler: Broadcasting large task binary with size 1680.6 KiB\n",
            "23/12/11 09:59:59 WARN DAGScheduler: Broadcasting large task binary with size 1800.6 KiB\n",
            "23/12/11 10:00:13 WARN DAGScheduler: Broadcasting large task binary with size 1180.2 KiB\n",
            "23/12/11 10:00:14 WARN DAGScheduler: Broadcasting large task binary with size 1367.7 KiB\n",
            "23/12/11 10:00:15 WARN DAGScheduler: Broadcasting large task binary with size 1491.0 KiB\n",
            "23/12/11 10:00:16 WARN DAGScheduler: Broadcasting large task binary with size 1572.7 KiB\n",
            "23/12/11 10:00:28 WARN DAGScheduler: Broadcasting large task binary with size 1103.0 KiB\n",
            "23/12/11 10:00:29 WARN DAGScheduler: Broadcasting large task binary with size 1419.2 KiB\n",
            "23/12/11 10:00:31 WARN DAGScheduler: Broadcasting large task binary with size 1706.1 KiB\n",
            "23/12/11 10:00:32 WARN DAGScheduler: Broadcasting large task binary with size 1935.1 KiB\n",
            "23/12/11 10:00:34 WARN DAGScheduler: Broadcasting large task binary with size 2.1 MiB\n",
            "23/12/11 10:00:47 WARN DAGScheduler: Broadcasting large task binary with size 1047.8 KiB\n",
            "23/12/11 10:00:48 WARN DAGScheduler: Broadcasting large task binary with size 1303.1 KiB\n",
            "23/12/11 10:00:50 WARN DAGScheduler: Broadcasting large task binary with size 1514.0 KiB\n",
            "23/12/11 10:00:51 WARN DAGScheduler: Broadcasting large task binary with size 1680.6 KiB\n",
            "23/12/11 10:00:53 WARN DAGScheduler: Broadcasting large task binary with size 1800.6 KiB\n",
            "23/12/11 10:01:09 WARN DAGScheduler: Broadcasting large task binary with size 1180.2 KiB\n",
            "23/12/11 10:01:10 WARN DAGScheduler: Broadcasting large task binary with size 1367.7 KiB\n",
            "23/12/11 10:01:11 WARN DAGScheduler: Broadcasting large task binary with size 1491.0 KiB\n",
            "23/12/11 10:01:13 WARN DAGScheduler: Broadcasting large task binary with size 1572.7 KiB\n",
            "23/12/11 10:02:56 WARN DAGScheduler: Broadcasting large task binary with size 1035.1 KiB\n",
            "23/12/11 10:02:58 WARN DAGScheduler: Broadcasting large task binary with size 1526.7 KiB\n",
            "23/12/11 10:03:15 WARN DAGScheduler: Broadcasting large task binary with size 1010.0 KiB\n",
            "23/12/11 10:03:18 WARN DAGScheduler: Broadcasting large task binary with size 1469.0 KiB\n",
            "23/12/11 10:03:37 WARN DAGScheduler: Broadcasting large task binary with size 1424.8 KiB\n",
            "23/12/11 10:03:53 WARN DAGScheduler: Broadcasting large task binary with size 1035.1 KiB\n",
            "23/12/11 10:03:56 WARN DAGScheduler: Broadcasting large task binary with size 1526.7 KiB\n",
            "23/12/11 10:04:14 WARN DAGScheduler: Broadcasting large task binary with size 1010.0 KiB\n",
            "23/12/11 10:04:16 WARN DAGScheduler: Broadcasting large task binary with size 1469.0 KiB\n",
            "23/12/11 10:04:38 WARN DAGScheduler: Broadcasting large task binary with size 1424.8 KiB\n",
            "23/12/11 10:05:00 WARN DAGScheduler: Broadcasting large task binary with size 1035.1 KiB\n",
            "23/12/11 10:05:03 WARN DAGScheduler: Broadcasting large task binary with size 1526.7 KiB\n",
            "23/12/11 10:05:23 WARN DAGScheduler: Broadcasting large task binary with size 1010.0 KiB\n",
            "23/12/11 10:05:26 WARN DAGScheduler: Broadcasting large task binary with size 1469.0 KiB\n",
            "23/12/11 10:05:46 WARN DAGScheduler: Broadcasting large task binary with size 1424.8 KiB\n",
            "23/12/11 10:06:05 WARN DAGScheduler: Broadcasting large task binary with size 1035.1 KiB\n",
            "23/12/11 10:06:07 WARN DAGScheduler: Broadcasting large task binary with size 1526.7 KiB\n",
            "23/12/11 10:06:11 WARN DAGScheduler: Broadcasting large task binary with size 2.1 MiB\n",
            "23/12/11 10:06:14 WARN DAGScheduler: Broadcasting large task binary with size 2.7 MiB\n",
            "23/12/11 10:06:18 WARN DAGScheduler: Broadcasting large task binary with size 3.2 MiB\n",
            "23/12/11 10:06:22 WARN DAGScheduler: Broadcasting large task binary with size 3.7 MiB\n",
            "23/12/11 10:06:25 WARN DAGScheduler: Broadcasting large task binary with size 4.0 MiB\n",
            "23/12/11 10:06:28 WARN DAGScheduler: Broadcasting large task binary with size 1174.7 KiB\n",
            "23/12/11 10:06:51 WARN DAGScheduler: Broadcasting large task binary with size 1010.0 KiB\n",
            "23/12/11 10:06:55 WARN DAGScheduler: Broadcasting large task binary with size 1469.0 KiB\n",
            "23/12/11 10:06:59 WARN DAGScheduler: Broadcasting large task binary with size 1990.5 KiB\n",
            "23/12/11 10:07:04 WARN DAGScheduler: Broadcasting large task binary with size 2.4 MiB\n",
            "23/12/11 10:07:07 WARN DAGScheduler: Broadcasting large task binary with size 2.9 MiB\n",
            "23/12/11 10:07:12 WARN DAGScheduler: Broadcasting large task binary with size 3.3 MiB\n",
            "23/12/11 10:07:19 WARN DAGScheduler: Broadcasting large task binary with size 3.5 MiB\n",
            "23/12/11 10:07:46 WARN DAGScheduler: Broadcasting large task binary with size 1424.8 KiB\n",
            "23/12/11 10:07:49 WARN DAGScheduler: Broadcasting large task binary with size 1891.5 KiB\n",
            "23/12/11 10:07:52 WARN DAGScheduler: Broadcasting large task binary with size 2.3 MiB\n",
            "23/12/11 10:07:55 WARN DAGScheduler: Broadcasting large task binary with size 2.6 MiB\n",
            "23/12/11 10:07:58 WARN DAGScheduler: Broadcasting large task binary with size 2.9 MiB\n",
            "23/12/11 10:08:01 WARN DAGScheduler: Broadcasting large task binary with size 3.1 MiB\n",
            "23/12/11 10:08:19 WARN DAGScheduler: Broadcasting large task binary with size 1035.1 KiB\n",
            "23/12/11 10:08:22 WARN DAGScheduler: Broadcasting large task binary with size 1526.7 KiB\n",
            "23/12/11 10:08:25 WARN DAGScheduler: Broadcasting large task binary with size 2.1 MiB\n",
            "23/12/11 10:08:28 WARN DAGScheduler: Broadcasting large task binary with size 2.7 MiB\n",
            "23/12/11 10:08:31 WARN DAGScheduler: Broadcasting large task binary with size 3.2 MiB\n",
            "23/12/11 10:08:34 WARN DAGScheduler: Broadcasting large task binary with size 3.7 MiB\n",
            "23/12/11 10:08:37 WARN DAGScheduler: Broadcasting large task binary with size 4.0 MiB\n",
            "23/12/11 10:08:41 WARN DAGScheduler: Broadcasting large task binary with size 1174.7 KiB\n",
            "23/12/11 10:08:58 WARN DAGScheduler: Broadcasting large task binary with size 1010.0 KiB\n",
            "23/12/11 10:09:01 WARN DAGScheduler: Broadcasting large task binary with size 1469.0 KiB\n",
            "23/12/11 10:09:04 WARN DAGScheduler: Broadcasting large task binary with size 1990.5 KiB\n",
            "23/12/11 10:09:06 WARN DAGScheduler: Broadcasting large task binary with size 2.4 MiB\n",
            "23/12/11 10:09:10 WARN DAGScheduler: Broadcasting large task binary with size 2.9 MiB\n",
            "23/12/11 10:09:13 WARN DAGScheduler: Broadcasting large task binary with size 3.3 MiB\n",
            "23/12/11 10:09:17 WARN DAGScheduler: Broadcasting large task binary with size 3.5 MiB\n",
            "23/12/11 10:09:39 WARN DAGScheduler: Broadcasting large task binary with size 1424.8 KiB\n",
            "23/12/11 10:09:42 WARN DAGScheduler: Broadcasting large task binary with size 1891.5 KiB\n",
            "23/12/11 10:09:46 WARN DAGScheduler: Broadcasting large task binary with size 2.3 MiB\n",
            "23/12/11 10:09:49 WARN DAGScheduler: Broadcasting large task binary with size 2.6 MiB\n",
            "23/12/11 10:09:52 WARN DAGScheduler: Broadcasting large task binary with size 2.9 MiB\n",
            "23/12/11 10:09:56 WARN DAGScheduler: Broadcasting large task binary with size 3.1 MiB\n",
            "23/12/11 10:10:14 WARN DAGScheduler: Broadcasting large task binary with size 1035.1 KiB\n",
            "23/12/11 10:10:17 WARN DAGScheduler: Broadcasting large task binary with size 1526.7 KiB\n",
            "23/12/11 10:10:20 WARN DAGScheduler: Broadcasting large task binary with size 2.1 MiB\n",
            "23/12/11 10:10:23 WARN DAGScheduler: Broadcasting large task binary with size 2.7 MiB\n",
            "23/12/11 10:10:26 WARN DAGScheduler: Broadcasting large task binary with size 3.2 MiB\n",
            "23/12/11 10:10:29 WARN DAGScheduler: Broadcasting large task binary with size 3.7 MiB\n",
            "23/12/11 10:10:32 WARN DAGScheduler: Broadcasting large task binary with size 4.0 MiB\n",
            "23/12/11 10:10:35 WARN DAGScheduler: Broadcasting large task binary with size 1174.7 KiB\n",
            "23/12/11 10:10:50 WARN DAGScheduler: Broadcasting large task binary with size 1010.0 KiB\n",
            "23/12/11 10:10:52 WARN DAGScheduler: Broadcasting large task binary with size 1469.0 KiB\n",
            "23/12/11 10:10:55 WARN DAGScheduler: Broadcasting large task binary with size 1990.5 KiB\n",
            "23/12/11 10:10:58 WARN DAGScheduler: Broadcasting large task binary with size 2.4 MiB\n",
            "23/12/11 10:11:01 WARN DAGScheduler: Broadcasting large task binary with size 2.9 MiB\n",
            "23/12/11 10:11:06 WARN DAGScheduler: Broadcasting large task binary with size 3.3 MiB\n",
            "23/12/11 10:11:09 WARN DAGScheduler: Broadcasting large task binary with size 3.5 MiB\n",
            "23/12/11 10:11:32 WARN DAGScheduler: Broadcasting large task binary with size 1424.8 KiB\n",
            "23/12/11 10:11:35 WARN DAGScheduler: Broadcasting large task binary with size 1891.5 KiB\n",
            "23/12/11 10:11:38 WARN DAGScheduler: Broadcasting large task binary with size 2.3 MiB\n",
            "23/12/11 10:11:41 WARN DAGScheduler: Broadcasting large task binary with size 2.6 MiB\n",
            "23/12/11 10:11:44 WARN DAGScheduler: Broadcasting large task binary with size 2.9 MiB\n",
            "23/12/11 10:11:47 WARN DAGScheduler: Broadcasting large task binary with size 3.1 MiB\n",
            "23/12/11 10:14:33 WARN DAGScheduler: Broadcasting large task binary with size 1523.7 KiB\n",
            "23/12/11 10:14:37 WARN DAGScheduler: Broadcasting large task binary with size 2.2 MiB\n",
            "23/12/11 10:15:09 WARN DAGScheduler: Broadcasting large task binary with size 1467.2 KiB\n",
            "23/12/11 10:15:13 WARN DAGScheduler: Broadcasting large task binary with size 2.1 MiB\n",
            "23/12/11 10:15:46 WARN DAGScheduler: Broadcasting large task binary with size 1444.0 KiB\n",
            "23/12/11 10:15:50 WARN DAGScheduler: Broadcasting large task binary with size 2.1 MiB\n",
            "23/12/11 10:16:19 WARN DAGScheduler: Broadcasting large task binary with size 1523.7 KiB\n",
            "23/12/11 10:16:24 WARN DAGScheduler: Broadcasting large task binary with size 2.2 MiB\n",
            "23/12/11 10:16:52 WARN DAGScheduler: Broadcasting large task binary with size 1467.2 KiB\n",
            "23/12/11 10:16:57 WARN DAGScheduler: Broadcasting large task binary with size 2.1 MiB\n",
            "23/12/11 10:17:30 WARN DAGScheduler: Broadcasting large task binary with size 1444.0 KiB\n",
            "23/12/11 10:17:35 WARN DAGScheduler: Broadcasting large task binary with size 2.1 MiB\n",
            "23/12/11 10:18:06 WARN DAGScheduler: Broadcasting large task binary with size 1523.7 KiB\n",
            "23/12/11 10:18:11 WARN DAGScheduler: Broadcasting large task binary with size 2.2 MiB\n",
            "23/12/11 10:18:39 WARN DAGScheduler: Broadcasting large task binary with size 1467.2 KiB\n",
            "23/12/11 10:18:43 WARN DAGScheduler: Broadcasting large task binary with size 2.1 MiB\n",
            "23/12/11 10:19:09 WARN DAGScheduler: Broadcasting large task binary with size 1444.0 KiB\n",
            "23/12/11 10:19:13 WARN DAGScheduler: Broadcasting large task binary with size 2.1 MiB\n",
            "23/12/11 10:19:40 WARN DAGScheduler: Broadcasting large task binary with size 1523.7 KiB\n",
            "23/12/11 10:19:44 WARN DAGScheduler: Broadcasting large task binary with size 2.2 MiB\n",
            "23/12/11 10:19:49 WARN DAGScheduler: Broadcasting large task binary with size 3.1 MiB\n",
            "23/12/11 10:19:54 WARN DAGScheduler: Broadcasting large task binary with size 4.1 MiB\n",
            "23/12/11 10:19:58 WARN DAGScheduler: Broadcasting large task binary with size 4.9 MiB\n",
            "23/12/11 10:20:03 WARN DAGScheduler: Broadcasting large task binary with size 5.6 MiB\n",
            "23/12/11 10:20:09 WARN DAGScheduler: Broadcasting large task binary with size 6.1 MiB\n",
            "23/12/11 10:20:14 WARN DAGScheduler: Broadcasting large task binary with size 1693.1 KiB\n",
            "23/12/11 10:20:38 WARN DAGScheduler: Broadcasting large task binary with size 1467.2 KiB\n",
            "23/12/11 10:20:42 WARN DAGScheduler: Broadcasting large task binary with size 2.1 MiB\n",
            "23/12/11 10:20:47 WARN DAGScheduler: Broadcasting large task binary with size 2.9 MiB\n",
            "23/12/11 10:20:52 WARN DAGScheduler: Broadcasting large task binary with size 3.8 MiB\n",
            "23/12/11 10:20:57 WARN DAGScheduler: Broadcasting large task binary with size 4.4 MiB\n",
            "23/12/11 10:21:02 WARN DAGScheduler: Broadcasting large task binary with size 5.0 MiB\n",
            "23/12/11 10:21:07 WARN DAGScheduler: Broadcasting large task binary with size 5.4 MiB\n",
            "23/12/11 10:21:12 WARN DAGScheduler: Broadcasting large task binary with size 1234.4 KiB\n",
            "23/12/11 10:21:37 WARN DAGScheduler: Broadcasting large task binary with size 1444.0 KiB\n",
            "23/12/11 10:21:42 WARN DAGScheduler: Broadcasting large task binary with size 2.1 MiB\n",
            "23/12/11 10:21:46 WARN DAGScheduler: Broadcasting large task binary with size 2.8 MiB\n",
            "23/12/11 10:21:51 WARN DAGScheduler: Broadcasting large task binary with size 3.5 MiB\n",
            "23/12/11 10:21:56 WARN DAGScheduler: Broadcasting large task binary with size 4.1 MiB\n",
            "23/12/11 10:22:01 WARN DAGScheduler: Broadcasting large task binary with size 4.5 MiB\n",
            "23/12/11 10:22:06 WARN DAGScheduler: Broadcasting large task binary with size 4.8 MiB\n",
            "23/12/11 10:22:33 WARN DAGScheduler: Broadcasting large task binary with size 1523.7 KiB\n",
            "23/12/11 10:22:38 WARN DAGScheduler: Broadcasting large task binary with size 2.2 MiB\n",
            "23/12/11 10:22:42 WARN DAGScheduler: Broadcasting large task binary with size 3.1 MiB\n",
            "23/12/11 10:22:47 WARN DAGScheduler: Broadcasting large task binary with size 4.1 MiB\n",
            "23/12/11 10:22:52 WARN DAGScheduler: Broadcasting large task binary with size 4.9 MiB\n",
            "23/12/11 10:22:57 WARN DAGScheduler: Broadcasting large task binary with size 5.6 MiB\n",
            "23/12/11 10:23:02 WARN DAGScheduler: Broadcasting large task binary with size 6.1 MiB\n",
            "23/12/11 10:23:07 WARN DAGScheduler: Broadcasting large task binary with size 1693.1 KiB\n",
            "23/12/11 10:23:32 WARN DAGScheduler: Broadcasting large task binary with size 1467.2 KiB\n",
            "23/12/11 10:23:37 WARN DAGScheduler: Broadcasting large task binary with size 2.1 MiB\n",
            "23/12/11 10:23:41 WARN DAGScheduler: Broadcasting large task binary with size 2.9 MiB\n",
            "23/12/11 10:23:46 WARN DAGScheduler: Broadcasting large task binary with size 3.8 MiB\n",
            "23/12/11 10:23:51 WARN DAGScheduler: Broadcasting large task binary with size 4.4 MiB\n",
            "23/12/11 10:23:56 WARN DAGScheduler: Broadcasting large task binary with size 5.0 MiB\n",
            "23/12/11 10:24:00 WARN DAGScheduler: Broadcasting large task binary with size 5.4 MiB\n",
            "23/12/11 10:24:05 WARN DAGScheduler: Broadcasting large task binary with size 1234.4 KiB\n",
            "23/12/11 10:24:28 WARN DAGScheduler: Broadcasting large task binary with size 1444.0 KiB\n",
            "23/12/11 10:24:32 WARN DAGScheduler: Broadcasting large task binary with size 2.1 MiB\n",
            "23/12/11 10:24:36 WARN DAGScheduler: Broadcasting large task binary with size 2.8 MiB\n",
            "23/12/11 10:24:40 WARN DAGScheduler: Broadcasting large task binary with size 3.5 MiB\n",
            "23/12/11 10:24:46 WARN DAGScheduler: Broadcasting large task binary with size 4.1 MiB\n",
            "23/12/11 10:24:50 WARN DAGScheduler: Broadcasting large task binary with size 4.5 MiB\n",
            "23/12/11 10:24:55 WARN DAGScheduler: Broadcasting large task binary with size 4.8 MiB\n",
            "23/12/11 10:25:24 WARN DAGScheduler: Broadcasting large task binary with size 1523.7 KiB\n",
            "23/12/11 10:25:29 WARN DAGScheduler: Broadcasting large task binary with size 2.2 MiB\n",
            "23/12/11 10:25:33 WARN DAGScheduler: Broadcasting large task binary with size 3.1 MiB\n",
            "23/12/11 10:25:38 WARN DAGScheduler: Broadcasting large task binary with size 4.1 MiB\n",
            "23/12/11 10:25:43 WARN DAGScheduler: Broadcasting large task binary with size 4.9 MiB\n",
            "23/12/11 10:25:49 WARN DAGScheduler: Broadcasting large task binary with size 5.6 MiB\n",
            "23/12/11 10:25:54 WARN DAGScheduler: Broadcasting large task binary with size 6.1 MiB\n",
            "23/12/11 10:25:59 WARN DAGScheduler: Broadcasting large task binary with size 1693.1 KiB\n",
            "23/12/11 10:26:23 WARN DAGScheduler: Broadcasting large task binary with size 1467.2 KiB\n",
            "23/12/11 10:26:27 WARN DAGScheduler: Broadcasting large task binary with size 2.1 MiB\n",
            "23/12/11 10:26:31 WARN DAGScheduler: Broadcasting large task binary with size 2.9 MiB\n",
            "23/12/11 10:26:36 WARN DAGScheduler: Broadcasting large task binary with size 3.8 MiB\n",
            "23/12/11 10:26:41 WARN DAGScheduler: Broadcasting large task binary with size 4.4 MiB\n",
            "23/12/11 10:26:46 WARN DAGScheduler: Broadcasting large task binary with size 5.0 MiB\n",
            "23/12/11 10:26:51 WARN DAGScheduler: Broadcasting large task binary with size 5.4 MiB\n",
            "23/12/11 10:26:55 WARN DAGScheduler: Broadcasting large task binary with size 1234.4 KiB\n",
            "23/12/11 10:27:18 WARN DAGScheduler: Broadcasting large task binary with size 1444.0 KiB\n",
            "23/12/11 10:27:21 WARN DAGScheduler: Broadcasting large task binary with size 2.1 MiB\n",
            "23/12/11 10:27:26 WARN DAGScheduler: Broadcasting large task binary with size 2.8 MiB\n",
            "23/12/11 10:27:31 WARN DAGScheduler: Broadcasting large task binary with size 3.5 MiB\n",
            "23/12/11 10:27:36 WARN DAGScheduler: Broadcasting large task binary with size 4.1 MiB\n",
            "23/12/11 10:27:40 WARN DAGScheduler: Broadcasting large task binary with size 4.5 MiB\n",
            "23/12/11 10:27:44 WARN DAGScheduler: Broadcasting large task binary with size 4.8 MiB\n",
            "23/12/11 10:28:39 WARN DAGScheduler: Broadcasting large task binary with size 1498.6 KiB\n",
            "23/12/11 10:28:45 WARN DAGScheduler: Broadcasting large task binary with size 2.2 MiB\n",
            "23/12/11 10:28:50 WARN DAGScheduler: Broadcasting large task binary with size 3.0 MiB\n",
            "23/12/11 10:28:56 WARN DAGScheduler: Broadcasting large task binary with size 3.9 MiB\n",
            "23/12/11 10:29:02 WARN DAGScheduler: Broadcasting large task binary with size 4.7 MiB\n",
            "23/12/11 10:29:09 WARN DAGScheduler: Broadcasting large task binary with size 5.3 MiB\n",
            "23/12/11 10:29:15 WARN DAGScheduler: Broadcasting large task binary with size 5.8 MiB\n",
            "                                                                                \r"
          ]
        }
      ],
      "source": [
        "tuning_ranrest_model = cv.fit(train_data)"
      ]
    },
    {
      "cell_type": "markdown",
      "metadata": {},
      "source": [
        "<h4><b>PREDICTION DATA FROM MODEL</b></h4>"
      ]
    },
    {
      "cell_type": "code",
      "execution_count": 115,
      "metadata": {},
      "outputs": [],
      "source": [
        "predictions = tuning_ranrest_model.transform(test_data)"
      ]
    },
    {
      "cell_type": "markdown",
      "metadata": {},
      "source": [
        "<h4><b>EVALUASI MODEL DENGAN ACCURACY</b></h4>"
      ]
    },
    {
      "cell_type": "code",
      "execution_count": 116,
      "metadata": {},
      "outputs": [
        {
          "name": "stderr",
          "output_type": "stream",
          "text": [
            "23/12/11 10:42:57 WARN DAGScheduler: Broadcasting large task binary with size 1312.0 KiB\n",
            "[Stage 34781:======>                                                (1 + 7) / 8]\r"
          ]
        },
        {
          "name": "stdout",
          "output_type": "stream",
          "text": [
            "Nilai Accuracy Model Dengan Random Forest Tuning : 85.28%\n"
          ]
        },
        {
          "name": "stderr",
          "output_type": "stream",
          "text": [
            "                                                                                \r"
          ]
        }
      ],
      "source": [
        "evaluator_ranrest = MulticlassClassificationEvaluator(\n",
        "    labelCol='patient_type',\n",
        "    predictionCol='prediction',\n",
        "    metricName='accuracy'\n",
        ")\n",
        "accuracy_ranrest = evaluator_ranrest.evaluate(predictions)\n",
        "print(f\"Nilai Accuracy Model Dengan Random Forest Tuning : {accuracy_ranrest:.2%}\")"
      ]
    },
    {
      "cell_type": "markdown",
      "metadata": {},
      "source": [
        "<h4><b>EVALUASI MODEL DENGAN F1-Score</b></h4>"
      ]
    },
    {
      "cell_type": "code",
      "execution_count": 117,
      "metadata": {},
      "outputs": [
        {
          "name": "stderr",
          "output_type": "stream",
          "text": [
            "23/12/11 10:43:10 WARN DAGScheduler: Broadcasting large task binary with size 1312.0 KiB\n",
            "[Stage 34783:================================================>      (7 + 1) / 8]\r"
          ]
        },
        {
          "name": "stdout",
          "output_type": "stream",
          "text": [
            "Nilai F1-Score Model Dengan Random Forest Tuning : 83.66%\n"
          ]
        },
        {
          "name": "stderr",
          "output_type": "stream",
          "text": [
            "                                                                                \r"
          ]
        }
      ],
      "source": [
        "evaluator_ranrest = MulticlassClassificationEvaluator(\n",
        "    labelCol='patient_type',\n",
        "    predictionCol='prediction',\n",
        "    metricName='f1'\n",
        ")\n",
        "f1_ranrest = evaluator_ranrest.evaluate(predictions)\n",
        "print(f\"Nilai F1-Score Model Dengan Random Forest Tuning : {f1_ranrest:.2%}\")"
      ]
    },
    {
      "cell_type": "markdown",
      "metadata": {},
      "source": [
        "<h4><b>EVALUASI MODEL DENGAN PRESISI</b></h4>"
      ]
    },
    {
      "cell_type": "code",
      "execution_count": 118,
      "metadata": {},
      "outputs": [
        {
          "name": "stderr",
          "output_type": "stream",
          "text": [
            "23/12/11 10:43:23 WARN DAGScheduler: Broadcasting large task binary with size 1312.0 KiB\n",
            "[Stage 34785:=========================================>             (6 + 2) / 8]\r"
          ]
        },
        {
          "name": "stdout",
          "output_type": "stream",
          "text": [
            "Nilai Presisi Model Dengan Random Forest Tuning : 83.86%\n"
          ]
        },
        {
          "name": "stderr",
          "output_type": "stream",
          "text": [
            "                                                                                \r"
          ]
        }
      ],
      "source": [
        "evaluator_ranrest = MulticlassClassificationEvaluator(\n",
        "    labelCol='patient_type',\n",
        "    predictionCol='prediction',\n",
        "    metricName='weightedPrecision'\n",
        ")\n",
        "presisi_ranrest = evaluator_ranrest.evaluate(predictions)\n",
        "print(f\"Nilai Presisi Model Dengan Random Forest Tuning : {presisi_ranrest:.2%}\")"
      ]
    },
    {
      "cell_type": "markdown",
      "metadata": {},
      "source": [
        "<h4><b>EVALUASI MODEL DENGAN RECALL</b></h4>"
      ]
    },
    {
      "cell_type": "code",
      "execution_count": 119,
      "metadata": {},
      "outputs": [
        {
          "name": "stderr",
          "output_type": "stream",
          "text": [
            "23/12/11 10:43:43 WARN DAGScheduler: Broadcasting large task binary with size 1312.0 KiB\n",
            "[Stage 34787:===========================>                           (4 + 4) / 8]\r"
          ]
        },
        {
          "name": "stdout",
          "output_type": "stream",
          "text": [
            "Nilai Recall Model Dengan Random Forest Tuning : 85.28%\n"
          ]
        },
        {
          "name": "stderr",
          "output_type": "stream",
          "text": [
            "                                                                                \r"
          ]
        }
      ],
      "source": [
        "evaluator_ranrest = MulticlassClassificationEvaluator(\n",
        "    labelCol='patient_type',\n",
        "    predictionCol='prediction',\n",
        "    metricName='weightedRecall'\n",
        ")\n",
        "recall_ranrest = evaluator_ranrest.evaluate(predictions)\n",
        "print(f\"Nilai Recall Model Dengan Random Forest Tuning : {recall_ranrest:.2%}\")"
      ]
    },
    {
      "cell_type": "markdown",
      "metadata": {},
      "source": [
        "<h3><b>TUNING MODEL MULTILAYER PERCEPTRON CLASSIFIER</b></h3>"
      ]
    },
    {
      "cell_type": "markdown",
      "metadata": {},
      "source": [
        "<h4><b>SPLIT DATASET</b></h4>"
      ]
    },
    {
      "cell_type": "code",
      "execution_count": 97,
      "metadata": {},
      "outputs": [],
      "source": [
        "train_data,test_data = df_prediction.randomSplit([0.7,0.3])"
      ]
    },
    {
      "cell_type": "markdown",
      "metadata": {},
      "source": [
        "<h4><b>CREATE MLP MODEL TUNING</b></h4>"
      ]
    },
    {
      "cell_type": "code",
      "execution_count": 98,
      "metadata": {},
      "outputs": [],
      "source": [
        "layers = [4, 10, 5, 2]\n",
        "mlp = MultilayerPerceptronClassifier(layers=layers, labelCol='patient_type', featuresCol='independentFeature')"
      ]
    },
    {
      "cell_type": "markdown",
      "metadata": {},
      "source": [
        "<h4><b>CREATE PARAMTER GRID FOR HYPERPARAMATER MODEL TUNING</b></h4>"
      ]
    },
    {
      "cell_type": "code",
      "execution_count": 99,
      "metadata": {},
      "outputs": [],
      "source": [
        "param_grid = (ParamGridBuilder()\n",
        "    .addGrid(mlp.maxIter, [50, 100, 200])\n",
        "    .addGrid(mlp.blockSize, [32, 64, 128])\n",
        "    .addGrid(mlp.stepSize, [0.01, 0.1, 0.2])\n",
        "    .build())"
      ]
    },
    {
      "cell_type": "markdown",
      "metadata": {},
      "source": [
        "<h4><b>CREATE EVALUATOR MODEL</b></h4>"
      ]
    },
    {
      "cell_type": "code",
      "execution_count": 100,
      "metadata": {},
      "outputs": [],
      "source": [
        "evaluator = MulticlassClassificationEvaluator(labelCol='patient_type', predictionCol='prediction', metricName='accuracy')"
      ]
    },
    {
      "cell_type": "markdown",
      "metadata": {},
      "source": [
        "<h4><b>CREATE CROSS VALIDATION MODEL</b></h4>"
      ]
    },
    {
      "cell_type": "code",
      "execution_count": 102,
      "metadata": {},
      "outputs": [],
      "source": [
        "cv = CrossValidator(estimator=mlp, estimatorParamMaps=param_grid, evaluator=evaluator, numFolds=3)"
      ]
    },
    {
      "cell_type": "markdown",
      "metadata": {},
      "source": [
        "<h4><b>TRAINING MODEL MLP TUNING</b></h4>"
      ]
    },
    {
      "cell_type": "code",
      "execution_count": 103,
      "metadata": {},
      "outputs": [
        {
          "name": "stderr",
          "output_type": "stream",
          "text": [
            "                                                                                \r"
          ]
        }
      ],
      "source": [
        "mlp_tuning_model = cv.fit(train_data)"
      ]
    },
    {
      "cell_type": "markdown",
      "metadata": {},
      "source": [
        "<h4><b>PREDICTION DATA FROM MODEL</b></h4>"
      ]
    },
    {
      "cell_type": "code",
      "execution_count": 104,
      "metadata": {},
      "outputs": [],
      "source": [
        "predictions = mlp_tuning_model.transform(test_data)"
      ]
    },
    {
      "cell_type": "markdown",
      "metadata": {},
      "source": [
        "<h4><b>EVALUASI MODEL DENGAN ACCURACY</b></h4>"
      ]
    },
    {
      "cell_type": "code",
      "execution_count": 105,
      "metadata": {},
      "outputs": [
        {
          "name": "stderr",
          "output_type": "stream",
          "text": [
            "[Stage 27689:====================>                                  (3 + 5) / 8]\r"
          ]
        },
        {
          "name": "stdout",
          "output_type": "stream",
          "text": [
            "Nilai Accuracy Model Dengan MLP Tuning : 84.54%\n"
          ]
        },
        {
          "name": "stderr",
          "output_type": "stream",
          "text": [
            "                                                                                \r"
          ]
        }
      ],
      "source": [
        "evaluator_mlp = MulticlassClassificationEvaluator(\n",
        "    labelCol='patient_type',\n",
        "    predictionCol='prediction',\n",
        "    metricName='accuracy'\n",
        ")\n",
        "accuracy_mlp = evaluator_mlp.evaluate(predictions)\n",
        "print(f\"Nilai Accuracy Model Dengan MLP Tuning : {accuracy_mlp:.2%}\")"
      ]
    },
    {
      "cell_type": "markdown",
      "metadata": {},
      "source": [
        "<h4><b>EVALUASI MODEL DENGAN F1-Score</b></h4>"
      ]
    },
    {
      "cell_type": "code",
      "execution_count": 106,
      "metadata": {},
      "outputs": [
        {
          "name": "stderr",
          "output_type": "stream",
          "text": [
            "[Stage 27691:==================================>                    (5 + 3) / 8]\r"
          ]
        },
        {
          "name": "stdout",
          "output_type": "stream",
          "text": [
            "Nilai F1-Score Model Dengan MLP Tuning : 82.57%\n"
          ]
        },
        {
          "name": "stderr",
          "output_type": "stream",
          "text": [
            "                                                                                \r"
          ]
        }
      ],
      "source": [
        "evaluator_mlp = MulticlassClassificationEvaluator(\n",
        "    labelCol='patient_type',\n",
        "    predictionCol='prediction',\n",
        "    metricName='f1'\n",
        ")\n",
        "f1_mlp = evaluator_mlp.evaluate(predictions)\n",
        "print(f\"Nilai F1-Score Model Dengan MLP Tuning : {f1_mlp:.2%}\")"
      ]
    },
    {
      "cell_type": "markdown",
      "metadata": {},
      "source": [
        "<h4><b>EVALUASI MODEL DENGAN PRESISI</b></h4>"
      ]
    },
    {
      "cell_type": "code",
      "execution_count": 107,
      "metadata": {},
      "outputs": [
        {
          "name": "stderr",
          "output_type": "stream",
          "text": [
            "[Stage 27693:===========================>                           (4 + 4) / 8]\r"
          ]
        },
        {
          "name": "stdout",
          "output_type": "stream",
          "text": [
            "Nilai Presisi Model Dengan MLP Tuning : 82.86%\n"
          ]
        },
        {
          "name": "stderr",
          "output_type": "stream",
          "text": [
            "                                                                                \r"
          ]
        }
      ],
      "source": [
        "evaluator_mlp = MulticlassClassificationEvaluator(\n",
        "    labelCol='patient_type',\n",
        "    predictionCol='prediction',\n",
        "    metricName='weightedPrecision'\n",
        ")\n",
        "presisi_mlp = evaluator_mlp.evaluate(predictions)\n",
        "print(f\"Nilai Presisi Model Dengan MLP Tuning : {presisi_mlp:.2%}\")"
      ]
    },
    {
      "cell_type": "markdown",
      "metadata": {},
      "source": [
        "<h4><b>EVALUASI MODEL DENGAN RECALL</b></h4>"
      ]
    },
    {
      "cell_type": "code",
      "execution_count": 108,
      "metadata": {},
      "outputs": [
        {
          "name": "stderr",
          "output_type": "stream",
          "text": [
            "[Stage 27695:======>                                                (1 + 7) / 8]\r"
          ]
        },
        {
          "name": "stdout",
          "output_type": "stream",
          "text": [
            "Nilai Recall Model Dengan MLP Tuning : 84.54%\n"
          ]
        },
        {
          "name": "stderr",
          "output_type": "stream",
          "text": [
            "                                                                                \r"
          ]
        }
      ],
      "source": [
        "evaluator_mlp = MulticlassClassificationEvaluator(\n",
        "    labelCol='patient_type',\n",
        "    predictionCol='prediction',\n",
        "    metricName='weightedRecall'\n",
        ")\n",
        "recall_mlp = evaluator_mlp.evaluate(predictions)\n",
        "print(f\"Nilai Recall Model Dengan MLP Tuning : {recall_mlp:.2%}\")"
      ]
    },
    {
      "cell_type": "markdown",
      "metadata": {},
      "source": [
        "<h2><b>VISUALISASION BEST MODEL (RANDOM FOREST)</b></h2>"
      ]
    },
    {
      "cell_type": "markdown",
      "metadata": {},
      "source": [
        "<h3><b>CONFUSSION MATRIX</b></h3>"
      ]
    },
    {
      "cell_type": "markdown",
      "metadata": {},
      "source": [
        "<h4><b>MEMBUAT DATA PREDIKSI DARI MODEL RANDOM FOREST TUNING</b></h4>"
      ]
    },
    {
      "cell_type": "code",
      "execution_count": 120,
      "metadata": {},
      "outputs": [],
      "source": [
        "predictions = tuning_ranrest_model.transform(test_data)"
      ]
    },
    {
      "cell_type": "markdown",
      "metadata": {},
      "source": [
        "<h4><b>MENDAPATKAN NILAI AKTUAL DAN PREDIKSI</b></h4>"
      ]
    },
    {
      "cell_type": "code",
      "execution_count": 121,
      "metadata": {},
      "outputs": [
        {
          "name": "stderr",
          "output_type": "stream",
          "text": [
            "23/12/11 10:48:27 WARN DAGScheduler: Broadcasting large task binary with size 1296.9 KiB\n",
            "                                                                                \r"
          ]
        }
      ],
      "source": [
        "y_true = predictions.select('patient_type').toPandas()\n",
        "y_pred = predictions.select('prediction').toPandas()"
      ]
    },
    {
      "cell_type": "markdown",
      "metadata": {},
      "source": [
        "<h4><b>MEMBUAT CONFUSSION MATRIX</b></h4>"
      ]
    },
    {
      "cell_type": "code",
      "execution_count": 124,
      "metadata": {},
      "outputs": [],
      "source": [
        "conf_matrix = confusion_matrix(y_true, y_pred)"
      ]
    },
    {
      "cell_type": "markdown",
      "metadata": {},
      "source": [
        "<h4><b>MEMBUAT DATAFRAME UNTUK VISUALISASI</b></h4>"
      ]
    },
    {
      "cell_type": "code",
      "execution_count": 125,
      "metadata": {},
      "outputs": [],
      "source": [
        "conf_df = pd.DataFrame(conf_matrix, index=['Actual 0', 'Actual 1'], columns=['Predicted 0', 'Predicted 1'])"
      ]
    },
    {
      "cell_type": "markdown",
      "metadata": {},
      "source": [
        "<h4><b>VISUALISASI CONFUSSION MATRIX</b></h4>"
      ]
    },
    {
      "cell_type": "code",
      "execution_count": 126,
      "metadata": {},
      "outputs": [
        {
          "data": {
            "image/png": "[encoded data removed]",
            "text/plain": [
              "<Figure size 800x600 with 1 Axes>"
            ]
          },
          "metadata": {},
          "output_type": "display_data"
        }
      ],
      "source": [
        "plt.figure(figsize=(8, 6))\n",
        "sns.heatmap(conf_df, annot=True, fmt='d', cmap='Blues', cbar=False)\n",
        "plt.title('Confusion Matrix')\n",
        "plt.xlabel('Predicted')\n",
        "plt.ylabel('Actual')\n",
        "plt.show()"
      ]
    },
    {
      "cell_type": "markdown",
      "metadata": {},
      "source": [
        "<h3><b>ACCURACY</b></h3>"
      ]
    },
    {
      "cell_type": "markdown",
      "metadata": {},
      "source": [
        "<h4><b>MEMBUAT EVALUATOR</b></h4>"
      ]
    },
    {
      "cell_type": "code",
      "execution_count": 127,
      "metadata": {},
      "outputs": [
        {
          "name": "stderr",
          "output_type": "stream",
          "text": [
            "23/12/11 10:52:21 WARN DAGScheduler: Broadcasting large task binary with size 1312.0 KiB\n",
            "                                                                                \r"
          ]
        }
      ],
      "source": [
        "evaluator = MulticlassClassificationEvaluator(labelCol=\"patient_type\", predictionCol=\"prediction\", metricName=\"accuracy\")\n",
        "accuracy = evaluator.evaluate(predictions)"
      ]
    },
    {
      "cell_type": "markdown",
      "metadata": {},
      "source": [
        "<h4><b>MEMBUAT DATA UNTUK PLOTTING</b></h4>"
      ]
    },
    {
      "cell_type": "code",
      "execution_count": 128,
      "metadata": {},
      "outputs": [],
      "source": [
        "labels = ['Akurasi']\n",
        "values = [accuracy]"
      ]
    },
    {
      "cell_type": "markdown",
      "metadata": {},
      "source": [
        "<h4><b>VISUALISASI ACCURACY</b></h4>"
      ]
    },
    {
      "cell_type": "code",
      "execution_count": 129,
      "metadata": {},
      "outputs": [
        {
          "data": {
            "image/png": "[encoded data removed]",
            "text/plain": [
              "<Figure size 640x480 with 1 Axes>"
            ]
          },
          "metadata": {},
          "output_type": "display_data"
        }
      ],
      "source": [
        "plt.bar(labels, values, color=['red'])\n",
        "\n",
        "plt.xlabel('Metrik')\n",
        "plt.ylabel('Nilai')\n",
        "plt.title('Grafik Akurasi Model')\n",
        "\n",
        "plt.show()"
      ]
    }
  ],
  "metadata": {
    "colab": {
      "provenance": []
    },
    "kernelspec": {
      "display_name": "Python 3 (ipykernel)",
      "language": "python",
      "name": "python3"
    },
    "language_info": {
      "codemirror_mode": {
        "name": "ipython",
        "version": 3
      },
      "file_extension": ".py",
      "mimetype": "text/x-python",
      "name": "python",
      "nbconvert_exporter": "python",
      "pygments_lexer": "ipython3",
      "version": "3.10.13"
    }
  },
  "nbformat": 4,
  "nbformat_minor": 0
}
